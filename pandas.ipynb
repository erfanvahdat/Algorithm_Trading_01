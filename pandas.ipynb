{
 "cells": [
  {
   "cell_type": "code",
   "execution_count": 1,
   "metadata": {},
   "outputs": [],
   "source": [
    "import seaborn as sns\n",
    "import matplotlib.pyplot as plt\n",
    "import pandas as pd\n",
    "import numpy as np"
   ]
  },
  {
   "cell_type": "code",
   "execution_count": 16,
   "metadata": {},
   "outputs": [
    {
     "data": {
      "text/plain": [
       "['a', 'b', 'c']"
      ]
     },
     "execution_count": 16,
     "metadata": {},
     "output_type": "execute_result"
    }
   ],
   "source": [
    "li=pd.Series([1,2,3],index=['a','b','c'])\n",
    "list(li.index)"
   ]
  },
  {
   "cell_type": "code",
   "execution_count": 30,
   "metadata": {},
   "outputs": [
    {
     "name": "stdout",
     "output_type": "stream",
     "text": [
      "Z:\n",
      "2014-07-01    0\n",
      "2014-07-02    1\n",
      "2014-07-03    2\n",
      "2014-07-04    3\n",
      "2014-07-05    4\n",
      "2014-07-06    5\n",
      "Freq: D, dtype: int64 \n",
      "\n",
      " temp2:\n",
      "2014-07-01    70\n",
      "2014-07-02    75\n",
      "2014-07-03    69\n",
      "2014-07-04    83\n",
      "2014-07-05    79\n",
      "2014-07-06    77\n",
      "Freq: D, dtype: int64\n",
      " \n",
      " this is divided:\n",
      " 2014-07-01    70\n",
      "2014-07-02    74\n",
      "2014-07-03    67\n",
      "2014-07-04    80\n",
      "2014-07-05    75\n",
      "2014-07-06    72\n",
      "Freq: D, dtype: int64\n"
     ]
    }
   ],
   "source": [
    "dates=pd.date_range('2014-07-01', '2014-07-06')\n",
    "z=pd.Series(range(len(dates)),index=dates)\n",
    "temps2 = pd.Series([70, 75, 69, 83, 79, 77],index = dates)\n",
    "print(f'Z:\\n{z } \\n\\n temp2:\\n{temps2}\\n \\n this is divided:\\n {temps2 - z}')\n"
   ]
  },
  {
   "cell_type": "code",
   "execution_count": 80,
   "metadata": {},
   "outputs": [
    {
     "data": {
      "text/html": [
       "<div>\n",
       "<style scoped>\n",
       "    .dataframe tbody tr th:only-of-type {\n",
       "        vertical-align: middle;\n",
       "    }\n",
       "\n",
       "    .dataframe tbody tr th {\n",
       "        vertical-align: top;\n",
       "    }\n",
       "\n",
       "    .dataframe thead th {\n",
       "        text-align: right;\n",
       "    }\n",
       "</style>\n",
       "<table border=\"1\" class=\"dataframe\">\n",
       "  <thead>\n",
       "    <tr style=\"text-align: right;\">\n",
       "      <th></th>\n",
       "      <th>Missoula</th>\n",
       "      <th>Philadelphia</th>\n",
       "      <th>Difference</th>\n",
       "    </tr>\n",
       "  </thead>\n",
       "  <tbody>\n",
       "    <tr>\n",
       "      <th>2014-07-01</th>\n",
       "      <td>0</td>\n",
       "      <td>70</td>\n",
       "      <td>-70</td>\n",
       "    </tr>\n",
       "    <tr>\n",
       "      <th>2014-07-02</th>\n",
       "      <td>1</td>\n",
       "      <td>75</td>\n",
       "      <td>-74</td>\n",
       "    </tr>\n",
       "    <tr>\n",
       "      <th>2014-07-03</th>\n",
       "      <td>2</td>\n",
       "      <td>69</td>\n",
       "      <td>-67</td>\n",
       "    </tr>\n",
       "    <tr>\n",
       "      <th>2014-07-04</th>\n",
       "      <td>3</td>\n",
       "      <td>83</td>\n",
       "      <td>-80</td>\n",
       "    </tr>\n",
       "    <tr>\n",
       "      <th>2014-07-05</th>\n",
       "      <td>4</td>\n",
       "      <td>79</td>\n",
       "      <td>-75</td>\n",
       "    </tr>\n",
       "    <tr>\n",
       "      <th>2014-07-06</th>\n",
       "      <td>5</td>\n",
       "      <td>77</td>\n",
       "      <td>-72</td>\n",
       "    </tr>\n",
       "  </tbody>\n",
       "</table>\n",
       "</div>"
      ],
      "text/plain": [
       "            Missoula  Philadelphia  Difference\n",
       "2014-07-01         0            70         -70\n",
       "2014-07-02         1            75         -74\n",
       "2014-07-03         2            69         -67\n",
       "2014-07-04         3            83         -80\n",
       "2014-07-05         4            79         -75\n",
       "2014-07-06         5            77         -72"
      ]
     },
     "execution_count": 80,
     "metadata": {},
     "output_type": "execute_result"
    }
   ],
   "source": [
    "zz=pd.Series([1,2,3],index=pd.date_range('2014-07-01', '2014-07-03'))\n",
    "temps_df = pd.DataFrame({'Missoula': z,\n",
    "                'Philadelphia': temps2})\n",
    "# tem_df=pd.DataFrame(zz,columns=['one'],index=zz.index)\n",
    "\n",
    "temps_df['Difference']=temps_df.Missoula - temps_df['Philadelphia']\n",
    "temps_df"
   ]
  },
  {
   "cell_type": "code",
   "execution_count": 100,
   "metadata": {},
   "outputs": [
    {
     "data": {
      "text/html": [
       "<div>\n",
       "<style scoped>\n",
       "    .dataframe tbody tr th:only-of-type {\n",
       "        vertical-align: middle;\n",
       "    }\n",
       "\n",
       "    .dataframe tbody tr th {\n",
       "        vertical-align: top;\n",
       "    }\n",
       "\n",
       "    .dataframe thead th {\n",
       "        text-align: right;\n",
       "    }\n",
       "</style>\n",
       "<table border=\"1\" class=\"dataframe\">\n",
       "  <thead>\n",
       "    <tr style=\"text-align: right;\">\n",
       "      <th></th>\n",
       "      <th>Missoula</th>\n",
       "      <th>Philadelphia</th>\n",
       "      <th>Difference</th>\n",
       "    </tr>\n",
       "  </thead>\n",
       "  <tbody>\n",
       "    <tr>\n",
       "      <th>2014-07-02</th>\n",
       "      <td>1</td>\n",
       "      <td>75</td>\n",
       "      <td>-74</td>\n",
       "    </tr>\n",
       "    <tr>\n",
       "      <th>2014-07-04</th>\n",
       "      <td>3</td>\n",
       "      <td>83</td>\n",
       "      <td>-80</td>\n",
       "    </tr>\n",
       "    <tr>\n",
       "      <th>2014-07-05</th>\n",
       "      <td>4</td>\n",
       "      <td>79</td>\n",
       "      <td>-75</td>\n",
       "    </tr>\n",
       "    <tr>\n",
       "      <th>2014-07-06</th>\n",
       "      <td>5</td>\n",
       "      <td>77</td>\n",
       "      <td>-72</td>\n",
       "    </tr>\n",
       "  </tbody>\n",
       "</table>\n",
       "</div>"
      ],
      "text/plain": [
       "            Missoula  Philadelphia  Difference\n",
       "2014-07-02         1            75         -74\n",
       "2014-07-04         3            83         -80\n",
       "2014-07-05         4            79         -75\n",
       "2014-07-06         5            77         -72"
      ]
     },
     "execution_count": 100,
     "metadata": {},
     "output_type": "execute_result"
    }
   ],
   "source": [
    "#the same \n",
    "# temps_df.iloc[[1, 3, 5]]['Difference']\n",
    "# temps_df.iloc[[1, 3, 5]].Difference \n",
    "temps_df[temps_df.Difference < -70] "
   ]
  },
  {
   "cell_type": "code",
   "execution_count": null,
   "metadata": {},
   "outputs": [],
   "source": [
    "df = pd.read_csv('data/test1.csv', parse_dates=['date'],index_col='some')"
   ]
  },
  {
   "cell_type": "code",
   "execution_count": 108,
   "metadata": {},
   "outputs": [
    {
     "data": {
      "text/plain": [
       "array([2.5, 4.5, 6.5, 8.5])"
      ]
     },
     "execution_count": 108,
     "metadata": {},
     "output_type": "execute_result"
    }
   ],
   "source": [
    "na=np.array(np.arange(2.5,10,2))\n"
   ]
  },
  {
   "cell_type": "code",
   "execution_count": 147,
   "metadata": {},
   "outputs": [
    {
     "name": "stdout",
     "output_type": "stream",
     "text": [
      "[ 1.  4.  7. 10.]\n",
      "[0 2 4 6 8]\n"
     ]
    },
    {
     "data": {
      "text/plain": [
       "array([[1, 2, 3],\n",
       "       [1, 4, 5]])"
      ]
     },
     "execution_count": 147,
     "metadata": {},
     "output_type": "execute_result"
    }
   ],
   "source": [
    "na[2:], na.size # size of array\n",
    "# print(len(na))\n",
    "# In numpy array we have size and the len\n",
    "np.arange(0, 10+1, 2)\n",
    "np.arange(10,0,-1) # Counting Down\n",
    "print(np.linspace(1, 10,4))\n",
    "print(np.arange(0,10,2))\n",
    "\n",
    "nz=np.array([[1,2,3],[1,4,5]])\n",
    "nz"
   ]
  },
  {
   "cell_type": "code",
   "execution_count": 182,
   "metadata": {},
   "outputs": [
    {
     "data": {
      "text/plain": [
       "(array([9, 8, 7, 6, 5, 4, 3, 2]), array([1, 2, 3, 4, 5, 6, 7, 8, 9]))"
      ]
     },
     "execution_count": 182,
     "metadata": {},
     "output_type": "execute_result"
    }
   ],
   "source": [
    "nz[0,0:3] # Slicing\n",
    "nz.size\n",
    "# len(nz)\n",
    "nz[:,2]\n",
    "a = np.arange(5)\n",
    "# a[a< 2]\n",
    "np.sum(a < 3) # sum of the element less than 3\n",
    "a1 = np.arange(1, 10)\n",
    "a1[3:8] ,a1\n",
    "a1[::3],a1\n",
    "a1[9:0:-1],a1 #reversed\n"
   ]
  },
  {
   "cell_type": "code",
   "execution_count": 187,
   "metadata": {},
   "outputs": [
    {
     "data": {
      "text/plain": [
       "array([[0, 1, 2],\n",
       "       [3, 4, 5],\n",
       "       [6, 7, 8]])"
      ]
     },
     "execution_count": 187,
     "metadata": {},
     "output_type": "execute_result"
    }
   ],
   "source": [
    "a = np.arange(0, 9)\n",
    "# and reshape to a 3x3 2-d array\n",
    "m = a.reshape(3, 3)\n",
    "m"
   ]
  },
  {
   "cell_type": "code",
   "execution_count": 196,
   "metadata": {},
   "outputs": [
    {
     "data": {
      "text/plain": [
       "(9, 9)"
      ]
     },
     "execution_count": 196,
     "metadata": {},
     "output_type": "execute_result"
    }
   ],
   "source": [
    "m_reval=m.ravel() # Generate the Flatt 2-D array\n",
    "m_reval.size, len (m_reval)"
   ]
  },
  {
   "cell_type": "code",
   "execution_count": 229,
   "metadata": {},
   "outputs": [
    {
     "data": {
      "text/plain": [
       "(array([[ 1,  2,  3],\n",
       "        [ 4,  1,  4],\n",
       "        [21,  4,  7],\n",
       "        [ 1,  5,  8]]),\n",
       " array([[ 1,  4, 21,  1],\n",
       "        [ 2,  1,  4,  5],\n",
       "        [ 3,  4,  7,  8]]),\n",
       " array([[ True,  True,  True,  True],\n",
       "        [ True,  True,  True,  True],\n",
       "        [ True,  True,  True,  True]]))"
      ]
     },
     "execution_count": 229,
     "metadata": {},
     "output_type": "execute_result"
    }
   ],
   "source": [
    "\n",
    "zp=np.array([[1,2,3],[4,1,4],[21,4,7],[1,5,8]])\n",
    "# zp.size, \n",
    "zp, zp.transpose(), zp.T ==zp.transpose()"
   ]
  },
  {
   "cell_type": "code",
   "execution_count": 239,
   "metadata": {},
   "outputs": [
    {
     "data": {
      "text/plain": [
       "(array([[ 0,  1,  2,  0, 10, 20],\n",
       "        [ 3,  4,  5, 30, 40, 50],\n",
       "        [ 6,  7,  8, 60, 70, 80]]),\n",
       " array([[ 0,  1,  2,  0, 10, 20],\n",
       "        [ 3,  4,  5, 30, 40, 50],\n",
       "        [ 6,  7,  8, 60, 70, 80]]))"
      ]
     },
     "execution_count": 239,
     "metadata": {},
     "output_type": "execute_result"
    }
   ],
   "source": [
    "a = np.arange(9).reshape(3, 3)\n",
    "b= a*10\n",
    "\n",
    "np.hstack((a,b)), np.concatenate((a, b), axis = 1)\n"
   ]
  },
  {
   "cell_type": "code",
   "execution_count": 263,
   "metadata": {},
   "outputs": [
    {
     "name": "stdout",
     "output_type": "stream",
     "text": [
      "a:\n",
      " [[0 1 2]\n",
      " [3 4 5]\n",
      " [6 7 8]] \n",
      " \n",
      " b:\n",
      " [[ 0 10 20]\n",
      " [30 40 50]\n",
      " [60 70 80]] \n"
     ]
    },
    {
     "data": {
      "text/plain": [
       "array([[ 0,  0],\n",
       "       [ 1, 10],\n",
       "       [ 2, 20],\n",
       "       [ 3, 30],\n",
       "       [ 4, 40],\n",
       "       [ 5, 50],\n",
       "       [ 6, 60],\n",
       "       [ 7, 70],\n",
       "       [ 8, 80]])"
      ]
     },
     "execution_count": 263,
     "metadata": {},
     "output_type": "execute_result"
    }
   ],
   "source": [
    "print('a:\\n {} \\n \\n b:\\n {} '.format( a ,b))\n",
    "# np.dstack((a, b))\n",
    "np.column_stack((np.ravel(a),np.ravel(b)))"
   ]
  },
  {
   "cell_type": "code",
   "execution_count": 295,
   "metadata": {},
   "outputs": [
    {
     "name": "stdout",
     "output_type": "stream",
     "text": [
      "[[ 0  1  2]\n",
      " [ 3  4  5]\n",
      " [ 6  7  8]\n",
      " [ 9 10 11]]\n"
     ]
    },
    {
     "data": {
      "text/plain": [
       "[array([[0, 1, 2],\n",
       "        [3, 4, 5]]),\n",
       " array([[ 6,  7,  8],\n",
       "        [ 9, 10, 11]])]"
      ]
     },
     "execution_count": 295,
     "metadata": {},
     "output_type": "execute_result"
    }
   ],
   "source": [
    "a = np.arange(12).reshape(4, 3)\n",
    "print(a)\n",
    "\n",
    "# np.split(a, 3, axis = 1)\n",
    "np.hsplit(a, 3) ,np.vsplit(a, 4)\n",
    "np.split(a, 2, axis = 0)"
   ]
  },
  {
   "cell_type": "code",
   "execution_count": 307,
   "metadata": {},
   "outputs": [
    {
     "name": "stdout",
     "output_type": "stream",
     "text": [
      "[[10 11 12]\n",
      " [13 14 15]\n",
      " [16 17 18]]\n"
     ]
    },
    {
     "data": {
      "text/plain": [
       "1"
      ]
     },
     "execution_count": 307,
     "metadata": {},
     "output_type": "execute_result"
    }
   ],
   "source": [
    "m = np.arange(10, 19).reshape(3, 3)\n",
    "print(m)\n",
    "m.argmax(),m.max(), m.min(axis = 1), m.max(axis = 0) # 0 mean columns and 1 is row\n",
    "m.cumsum(), m.cumprod()\n",
    "m.ravel().ndim"
   ]
  },
  {
   "attachments": {},
   "cell_type": "markdown",
   "metadata": {},
   "source": [
    "### creting Seires and Dataframe\n"
   ]
  },
  {
   "cell_type": "code",
   "execution_count": 345,
   "metadata": {},
   "outputs": [
    {
     "data": {
      "text/plain": [
       "a    1\n",
       "b    2\n",
       "c    3\n",
       "d    4\n",
       "dtype: int64"
      ]
     },
     "execution_count": 345,
     "metadata": {},
     "output_type": "execute_result"
    }
   ],
   "source": [
    "s3=pd.Series([2])\n",
    "np.random.seed(123456)\n",
    "s8=pd.Series(np.random.randn(5),index=pd.date_range('2022-01-01','2022-01-5'))\n",
    "s6 = pd.Series({'a': 1, 'b': 2, 'c': 3, 'd': 4}) # from dict\n",
    "s6"
   ]
  },
  {
   "cell_type": "code",
   "execution_count": 347,
   "metadata": {},
   "outputs": [
    {
     "data": {
      "text/plain": [
       "(2022-01-01    0.469112\n",
       " 2022-01-02   -0.282863\n",
       " 2022-01-03   -1.509059\n",
       " 2022-01-04   -1.135632\n",
       " 2022-01-05    1.212112\n",
       " Freq: D, dtype: float64,\n",
       " 0    [1, 2, 3, nan]\n",
       " 1    [5, 1, 7, nan]\n",
       " 2               NaN\n",
       " dtype: object)"
      ]
     },
     "execution_count": 347,
     "metadata": {},
     "output_type": "execute_result"
    }
   ],
   "source": [
    "s7=pd.Series([[1,2,3,np.nan],[5,1,7,np.nan],np.nan])\n",
    "s8, s7"
   ]
  },
  {
   "cell_type": "code",
   "execution_count": 377,
   "metadata": {},
   "outputs": [
    {
     "data": {
      "text/plain": [
       "(0.4691122999071863, 1.2121120250208506)"
      ]
     },
     "execution_count": 377,
     "metadata": {},
     "output_type": "execute_result"
    }
   ],
   "source": [
    "# s7.value_counts(), s8.value_counts()\n",
    "s8.take([0, 4]),'\\n', s8[[0,4]]\n",
    "s8.loc['2022-01-01'], s8.iloc[4]\n",
    "# s8.iloc[[1,2]]\n",
    "# s8.ix['2022-01-01','2022-01-02']\n",
    "# s8[0]"
   ]
  },
  {
   "cell_type": "code",
   "execution_count": 386,
   "metadata": {},
   "outputs": [
    {
     "name": "stdout",
     "output_type": "stream",
     "text": [
      "[5 5 5 5]\n"
     ]
    },
    {
     "data": {
      "text/plain": [
       "a     NaN\n",
       "b     8.0\n",
       "c    10.0\n",
       "d    13.0\n",
       "e     NaN\n",
       "dtype: float64"
      ]
     },
     "execution_count": 386,
     "metadata": {},
     "output_type": "execute_result"
    }
   ],
   "source": [
    "s6 = pd.Series([1, 2, 3, 4], index=['a', 'b', 'c', 'd'])\n",
    "s9=pd.Series([4, 3, 2, 1], index=['d', 'c', 'b', 'a'])\n",
    "s8 = pd.Series({'b': 6, 'c': 7, 'd': 9, 'e': 10})\n",
    "\n",
    "print(s6.values + s9.values) # Via values of each clumns\n",
    "s6 +s9  # Via index (the order is not important)\n",
    "s8+ s9 # via index (the missing pair of index return the NaN)"
   ]
  },
  {
   "cell_type": "code",
   "execution_count": 417,
   "metadata": {},
   "outputs": [],
   "source": [
    "nda = np.array([1, 2, 3, 4, np.NaN,30,40,100])\n",
    "nda.mean(),nda.std()\n",
    "s = pd.Series(nda)\n",
    "s.mean()\n",
    "s.mean(skipna=False)\n",
    "s=s+20"
   ]
  },
  {
   "cell_type": "code",
   "execution_count": 465,
   "metadata": {},
   "outputs": [
    {
     "name": "stdout",
     "output_type": "stream",
     "text": [
      " combined: \n",
      "           a         b\n",
      "0  0.408204 -0.988387\n",
      "1 -1.048089  0.094055\n",
      "2 -0.025747  1.262731\n"
     ]
    },
    {
     "data": {
      "text/plain": [
       "(a    0.408204\n",
       " 2   -1.048089\n",
       " c   -0.025747\n",
       " dtype: float64,\n",
       " a   -0.988387\n",
       " 2    0.094055\n",
       " c    1.262731\n",
       " dtype: float64)"
      ]
     },
     "execution_count": 465,
     "metadata": {},
     "output_type": "execute_result"
    }
   ],
   "source": [
    "# print(s)\n",
    "# s[(s > 20) & (s <= 50)]\n",
    "s[(s <40) | (s >20)] # AND\n",
    "(s >= 0).all()\n",
    "(s <= 24).sum()\n",
    "\n",
    "s1 = pd.Series(np.random.randn(3),index=['a','2','c'])\n",
    "s2 = pd.Series(np.random.randn(3),index=s1.index)\n",
    "combined = pd.concat([s1, s2],axis=1)\n",
    "combined.columns=['a','b']\n",
    "combined.index=[np.arange(len(combined))]\n",
    "\n",
    "# combined\n",
    "print(f' combined: \\n {combined}')\n",
    "s1,s2, \n"
   ]
  },
  {
   "cell_type": "code",
   "execution_count": 479,
   "metadata": {},
   "outputs": [
    {
     "data": {
      "text/plain": [
       "b         NaN\n",
       "g         NaN\n",
       "a   -0.489682\n",
       "dtype: float64"
      ]
     },
     "execution_count": 479,
     "metadata": {},
     "output_type": "execute_result"
    }
   ],
   "source": [
    "s3=s2.reindex(['b','g','a'])\n",
    "s3\n"
   ]
  },
  {
   "cell_type": "code",
   "execution_count": 481,
   "metadata": {},
   "outputs": [
    {
     "data": {
      "text/plain": [
       "(1   -0.977349\n",
       " b    1.474071\n",
       " c   -0.064034\n",
       " d   -1.282782\n",
       " dtype: float64,\n",
       " a         NaN\n",
       " c   -0.064034\n",
       " g         NaN\n",
       " dtype: float64)"
      ]
     },
     "execution_count": 481,
     "metadata": {},
     "output_type": "execute_result"
    }
   ],
   "source": [
    "s1 = pd.Series(np.random.randn(4), [1, 'b', 'c', 'd'])\n",
    "s2 = s1.reindex(['a', 'c', 'g'])\n",
    "s1,s2"
   ]
  },
  {
   "cell_type": "code",
   "execution_count": 500,
   "metadata": {},
   "outputs": [
    {
     "data": {
      "text/plain": [
       "0    3\n",
       "1    5\n",
       "2    7\n",
       "dtype: int64"
      ]
     },
     "execution_count": 500,
     "metadata": {},
     "output_type": "execute_result"
    }
   ],
   "source": [
    "s1 = pd.Series([0, 1, 2], index=[0, 1, 2])\n",
    "s2 = pd.Series([3, 4, 5], index=['0', '1', '2'])\n",
    "s2.index = s2.index.values.astype(int)\n",
    "s2 + s1 \n"
   ]
  },
  {
   "cell_type": "code",
   "execution_count": 527,
   "metadata": {},
   "outputs": [
    {
     "name": "stdout",
     "output_type": "stream",
     "text": [
      "f    0\n",
      "b    1\n",
      "c    2\n",
      "e    3\n",
      "a    4\n",
      "dtype: int32\n"
     ]
    },
    {
     "data": {
      "text/plain": [
       "a     4\n",
       "f     0\n",
       "cc    0\n",
       "dtype: int32"
      ]
     },
     "execution_count": 527,
     "metadata": {},
     "output_type": "execute_result"
    }
   ],
   "source": [
    "\n",
    "s4=pd.Series(np.arange(5))\n",
    "s4.index=['f','b','c','e','a']\n",
    "print(s4)\n",
    "s4.reindex(['a', 'f','cc'],fill_value=0)"
   ]
  },
  {
   "cell_type": "code",
   "execution_count": 529,
   "metadata": {},
   "outputs": [
    {
     "data": {
      "text/plain": [
       "10    100\n",
       "11    101\n",
       "12    102\n",
       "13    103\n",
       "14    104\n",
       "15    105\n",
       "16    106\n",
       "17    107\n",
       "18    108\n",
       "19    109\n",
       "dtype: int32"
      ]
     },
     "execution_count": 529,
     "metadata": {},
     "output_type": "execute_result"
    }
   ],
   "source": [
    "s = pd.Series(np.arange(100, 110), index=np.arange(10, 20))\n",
    "s"
   ]
  },
  {
   "cell_type": "code",
   "execution_count": 534,
   "metadata": {},
   "outputs": [
    {
     "name": "stderr",
     "output_type": "stream",
     "text": [
      "C:\\Users\\erfan\\AppData\\Local\\Temp\\ipykernel_14152\\3396612188.py:2: FutureWarning: The behavior of `series[i:j]` with an integer-dtype index is deprecated. In a future version, this will be treated as *label-based* indexing, consistent with e.g. `series[i]` lookups. To retain the old behavior, use `series.iloc[i:j]`. To get the future behavior, use `series.loc[i:j]`.\n",
      "  s[:5:2]\n",
      "C:\\Users\\erfan\\AppData\\Local\\Temp\\ipykernel_14152\\3396612188.py:3: FutureWarning: The behavior of `series[i:j]` with an integer-dtype index is deprecated. In a future version, this will be treated as *label-based* indexing, consistent with e.g. `series[i]` lookups. To retain the old behavior, use `series.iloc[i:j]`. To get the future behavior, use `series.loc[i:j]`.\n",
      "  s[4: :2]\n"
     ]
    },
    {
     "data": {
      "text/plain": [
       "14    104\n",
       "16    106\n",
       "18    108\n",
       "dtype: int32"
      ]
     },
     "execution_count": 534,
     "metadata": {},
     "output_type": "execute_result"
    }
   ],
   "source": [
    "s.iloc[[1,2]]\n",
    "s[:5:2]\n",
    "s[4: :2] # start at fourth pos stepping 2"
   ]
  },
  {
   "cell_type": "code",
   "execution_count": null,
   "metadata": {},
   "outputs": [],
   "source": []
  },
  {
   "cell_type": "code",
   "execution_count": null,
   "metadata": {},
   "outputs": [],
   "source": []
  },
  {
   "cell_type": "code",
   "execution_count": null,
   "metadata": {},
   "outputs": [],
   "source": []
  },
  {
   "cell_type": "code",
   "execution_count": null,
   "metadata": {},
   "outputs": [],
   "source": []
  },
  {
   "cell_type": "code",
   "execution_count": null,
   "metadata": {},
   "outputs": [],
   "source": []
  },
  {
   "cell_type": "code",
   "execution_count": null,
   "metadata": {},
   "outputs": [],
   "source": []
  }
 ],
 "metadata": {
  "kernelspec": {
   "display_name": "Python 3.9.0 ('python-env': venv)",
   "language": "python",
   "name": "python3"
  },
  "language_info": {
   "codemirror_mode": {
    "name": "ipython",
    "version": 3
   },
   "file_extension": ".py",
   "mimetype": "text/x-python",
   "name": "python",
   "nbconvert_exporter": "python",
   "pygments_lexer": "ipython3",
   "version": "3.9.0"
  },
  "orig_nbformat": 4,
  "vscode": {
   "interpreter": {
    "hash": "206281c67c299587fd6b7e0799bb09272fa0bcec0938cb036d092e940583014f"
   }
  }
 },
 "nbformat": 4,
 "nbformat_minor": 2
}
