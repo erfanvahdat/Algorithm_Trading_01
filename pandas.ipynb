{
 "cells": [
  {
   "cell_type": "code",
   "execution_count": 227,
   "metadata": {},
   "outputs": [],
   "source": [
    "import seaborn as sns\n",
    "import matplotlib.pyplot as plt\n",
    "import pandas as pd\n",
    "import numpy as np\n",
    "# from pandas_datareader import data, web  # <- use this.\n"
   ]
  },
  {
   "cell_type": "code",
   "execution_count": null,
   "metadata": {},
   "outputs": [],
   "source": [
    "li=pd.Series([1,2,3],index=['a','b','c'])\n",
    "list(li.index)"
   ]
  },
  {
   "cell_type": "code",
   "execution_count": null,
   "metadata": {},
   "outputs": [],
   "source": [
    "dates=pd.date_range('2014-07-01', '2014-07-06')\n",
    "z=pd.Series(range(len(dates)),index=dates)\n",
    "temps2 = pd.Series([70, 75, 69, 83, 79, 77],index = dates)\n",
    "print(f'Z:\\n{z } \\n\\n temp2:\\n{temps2}\\n \\n this is divided:\\n {temps2 - z}')\n"
   ]
  },
  {
   "cell_type": "code",
   "execution_count": null,
   "metadata": {},
   "outputs": [],
   "source": [
    "zz=pd.Series([1,2,3],index=pd.date_range('2014-07-01', '2014-07-03'))\n",
    "temps_df = pd.DataFrame({'Missoula': z,\n",
    "                'Philadelphia': temps2})\n",
    "# tem_df=pd.DataFrame(zz,columns=['one'],index=zz.index)\n",
    "\n",
    "temps_df['Difference']=temps_df.Missoula - temps_df['Philadelphia']\n",
    "temps_df"
   ]
  },
  {
   "cell_type": "code",
   "execution_count": null,
   "metadata": {},
   "outputs": [],
   "source": [
    "#the same \n",
    "# temps_df.iloc[[1, 3, 5]]['Difference']\n",
    "# temps_df.iloc[[1, 3, 5]].Difference \n",
    "temps_df[temps_df.Difference < -70] "
   ]
  },
  {
   "cell_type": "code",
   "execution_count": null,
   "metadata": {},
   "outputs": [],
   "source": [
    "df = pd.read_csv('data/test1.csv', parse_dates=['date'],index_col='some')"
   ]
  },
  {
   "cell_type": "code",
   "execution_count": null,
   "metadata": {},
   "outputs": [],
   "source": [
    "na=np.array(np.arange(2.5,10,2))\n"
   ]
  },
  {
   "cell_type": "code",
   "execution_count": null,
   "metadata": {},
   "outputs": [],
   "source": [
    "na[2:], na.size # size of array\n",
    "# print(len(na))\n",
    "# In numpy array we have size and the len\n",
    "np.arange(0, 10+1, 2)\n",
    "np.arange(10,0,-1) # Counting Down\n",
    "print(np.linspace(1, 10,4))\n",
    "print(np.arange(0,10,2))\n",
    "\n",
    "nz=np.array([[1,2,3],[1,4,5]])\n",
    "nz"
   ]
  },
  {
   "cell_type": "code",
   "execution_count": null,
   "metadata": {},
   "outputs": [],
   "source": [
    "nz[0,0:3] # Slicing\n",
    "nz.size\n",
    "# len(nz)\n",
    "nz[:,2]\n",
    "a = np.arange(5)\n",
    "# a[a< 2]\n",
    "np.sum(a < 3) # sum of the element less than 3\n",
    "a1 = np.arange(1, 10)\n",
    "a1[3:8] ,a1\n",
    "a1[::3],a1\n",
    "a1[9:0:-1],a1 #reversed\n"
   ]
  },
  {
   "cell_type": "code",
   "execution_count": null,
   "metadata": {},
   "outputs": [],
   "source": [
    "a = np.arange(0, 9)\n",
    "# and reshape to a 3x3 2-d array\n",
    "m = a.reshape(3, 3)\n",
    "m"
   ]
  },
  {
   "cell_type": "code",
   "execution_count": null,
   "metadata": {},
   "outputs": [],
   "source": [
    "m_reval=m.ravel() # Generate the Flatt 2-D array\n",
    "m_reval.size, len (m_reval)"
   ]
  },
  {
   "cell_type": "code",
   "execution_count": null,
   "metadata": {},
   "outputs": [],
   "source": [
    "\n",
    "zp=np.array([[1,2,3],[4,1,4],[21,4,7],[1,5,8]])\n",
    "# zp.size, \n",
    "zp, zp.transpose(), zp.T ==zp.transpose()"
   ]
  },
  {
   "cell_type": "code",
   "execution_count": null,
   "metadata": {},
   "outputs": [],
   "source": [
    "a = np.arange(9).reshape(3, 3)\n",
    "b= a*10\n",
    "\n",
    "np.hstack((a,b)), np.concatenate((a, b), axis = 1)\n"
   ]
  },
  {
   "cell_type": "code",
   "execution_count": null,
   "metadata": {},
   "outputs": [],
   "source": [
    "print('a:\\n {} \\n \\n b:\\n {} '.format( a ,b))\n",
    "# np.dstack((a, b))\n",
    "np.column_stack((np.ravel(a),np.ravel(b)))"
   ]
  },
  {
   "cell_type": "code",
   "execution_count": null,
   "metadata": {},
   "outputs": [],
   "source": [
    "a = np.arange(12).reshape(4, 3)\n",
    "print(a)\n",
    "\n",
    "# np.split(a, 3, axis = 1)\n",
    "np.hsplit(a, 3) ,np.vsplit(a, 4)\n",
    "np.split(a, 2, axis = 0)"
   ]
  },
  {
   "cell_type": "code",
   "execution_count": null,
   "metadata": {},
   "outputs": [],
   "source": [
    "m = np.arange(10, 19).reshape(3, 3)\n",
    "print(m)\n",
    "m.argmax(),m.max(), m.min(axis = 1), m.max(axis = 0) # 0 mean columns and 1 is row\n",
    "m.cumsum(), m.cumprod()\n",
    "m.ravel().ndim"
   ]
  },
  {
   "attachments": {},
   "cell_type": "markdown",
   "metadata": {},
   "source": [
    "### creting Seires and Dataframe\n"
   ]
  },
  {
   "cell_type": "code",
   "execution_count": null,
   "metadata": {},
   "outputs": [],
   "source": [
    "s3=pd.Series([2])\n",
    "np.random.seed(123456)\n",
    "s8=pd.Series(np.random.randn(5),index=pd.date_range('2022-01-01','2022-01-5'))\n",
    "s6 = pd.Series({'a': 1, 'b': 2, 'c': 3, 'd': 4}) # from dict\n",
    "s6"
   ]
  },
  {
   "cell_type": "code",
   "execution_count": null,
   "metadata": {},
   "outputs": [],
   "source": [
    "s7=pd.Series([[1,2,3,np.nan],[5,1,7,np.nan],np.nan])\n",
    "s8, s7"
   ]
  },
  {
   "cell_type": "code",
   "execution_count": null,
   "metadata": {},
   "outputs": [],
   "source": [
    "# s7.value_counts(), s8.value_counts()\n",
    "s8.take([0, 4]),'\\n', s8[[0,4]]\n",
    "s8.loc['2022-01-01'], s8.iloc[4]\n",
    "# s8.iloc[[1,2]]\n",
    "# s8.ix['2022-01-01','2022-01-02']\n",
    "# s8[0]"
   ]
  },
  {
   "cell_type": "code",
   "execution_count": null,
   "metadata": {},
   "outputs": [],
   "source": [
    "s6 = pd.Series([1, 2, 3, 4], index=['a', 'b', 'c', 'd'])\n",
    "s9=pd.Series([4, 3, 2, 1], index=['d', 'c', 'b', 'a'])\n",
    "s8 = pd.Series({'b': 6, 'c': 7, 'd': 9, 'e': 10})\n",
    "\n",
    "print(s6.values + s9.values) # Via values of each clumns\n",
    "s6 +s9  # Via index (the order is not important)\n",
    "s8+ s9 # via index (the missing pair of index return the NaN)"
   ]
  },
  {
   "cell_type": "code",
   "execution_count": null,
   "metadata": {},
   "outputs": [],
   "source": [
    "nda = np.array([1, 2, 3, 4, np.NaN,30,40,100])\n",
    "nda.mean(),nda.std()\n",
    "s = pd.Series(nda)\n",
    "s.mean()\n",
    "s.mean(skipna=False)\n",
    "s=s+20"
   ]
  },
  {
   "cell_type": "code",
   "execution_count": null,
   "metadata": {},
   "outputs": [],
   "source": [
    "# print(s)\n",
    "# s[(s > 20) & (s <= 50)]\n",
    "s[(s <40) | (s >20)] # AND\n",
    "(s >= 0).all()\n",
    "(s <= 24).sum()\n",
    "\n",
    "s1 = pd.Series(np.random.randn(3),index=['a','2','c'])\n",
    "s2 = pd.Series(np.random.randn(3),index=s1.index)\n",
    "combined = pd.concat([s1, s2],axis=1)\n",
    "combined.columns=['a','b']\n",
    "combined.index=[np.arange(len(combined))]\n",
    "\n",
    "# combined\n",
    "print(f' combined: \\n {combined}')\n",
    "s1,s2, \n"
   ]
  },
  {
   "cell_type": "code",
   "execution_count": null,
   "metadata": {},
   "outputs": [],
   "source": [
    "s3=s2.reindex(['b','g','a'])\n",
    "s3\n"
   ]
  },
  {
   "cell_type": "code",
   "execution_count": null,
   "metadata": {},
   "outputs": [],
   "source": [
    "s1 = pd.Series(np.random.randn(4), [1, 'b', 'c', 'd'])\n",
    "s2 = s1.reindex(['a', 'c', 'g'])\n",
    "s1,s2"
   ]
  },
  {
   "cell_type": "code",
   "execution_count": null,
   "metadata": {},
   "outputs": [],
   "source": [
    "s1 = pd.Series([0, 1, 2], index=[0, 1, 2])\n",
    "s2 = pd.Series([3, 4, 5], index=['0', '1', '2'])\n",
    "s2.index = s2.index.values.astype(int)\n",
    "s2 + s1 \n"
   ]
  },
  {
   "cell_type": "code",
   "execution_count": null,
   "metadata": {},
   "outputs": [],
   "source": [
    "\n",
    "s4=pd.Series(np.arange(5))\n",
    "s4.index=['f','b','c','e','a']\n",
    "print(s4)\n",
    "s4.reindex(['a', 'f','cc'],fill_value=0)"
   ]
  },
  {
   "cell_type": "code",
   "execution_count": null,
   "metadata": {},
   "outputs": [],
   "source": [
    "s = pd.Series(np.arange(100, 110), index=np.arange(10, 20))\n",
    "s"
   ]
  },
  {
   "cell_type": "code",
   "execution_count": null,
   "metadata": {},
   "outputs": [],
   "source": [
    "s.iloc[[1,2]]\n",
    "s[:5:2]\n",
    "s[4: :2] # start at fourth pos stepping 2"
   ]
  },
  {
   "cell_type": "code",
   "execution_count": null,
   "metadata": {},
   "outputs": [],
   "source": []
  },
  {
   "cell_type": "code",
   "execution_count": null,
   "metadata": {},
   "outputs": [],
   "source": [
    "s1 = pd.Series(np.random.randn(3),index=['a','2','c'])\n",
    "s2 = pd.Series(np.random.randn(3))\n",
    "df=pd.DataFrame(s1,s2)\n",
    "# co=pd.concat([s1, s2],axis=0) # Concat the seriess\n",
    "s2,s1\n"
   ]
  },
  {
   "attachments": {},
   "cell_type": "markdown",
   "metadata": {},
   "source": [
    "### DataFrame"
   ]
  },
  {
   "cell_type": "code",
   "execution_count": null,
   "metadata": {},
   "outputs": [],
   "source": [
    "# pd.DataFrame(np.array([[10, 11], [20, 21]]) )\n",
    "df = pd.DataFrame(np.array([[10, 11], [20, 21]]),columns=['a','b'])\n",
    "df_2=pd.DataFrame({\n",
    "    'A1':np.array(np.linspace(12,21,50)),\n",
    "    'A2': np.array(np.linspace(100,210,50))\n",
    "})\n",
    "s3 = pd.Series(np.arange(12, 14), index=[1, 2])\n",
    "df = pd.DataFrame({'c1': s1, 'c2': s2, 'c3': s3})\n",
    "df['c1']:df['c2']"
   ]
  },
  {
   "cell_type": "code",
   "execution_count": null,
   "metadata": {},
   "outputs": [],
   "source": [
    "s1 = pd.Series(np.arange(1, 6, 1))\n",
    "s2 = pd.Series(np.arange(6, 11, 1))\n",
    "pd.DataFrame({'c1': s1, 'c2': s2})\n",
    "\n",
    "df.loc[:,['c1','c2']]\n",
    "df.iloc[[0,1],0] # Get 0,1 row in second column\n",
    "\n",
    "# df.ix[:, 'c2']\n",
    "df.iat[2,1],df.iloc[2,1 ],df\n"
   ]
  },
  {
   "cell_type": "code",
   "execution_count": null,
   "metadata": {},
   "outputs": [],
   "source": [
    "df['c3'][df['c3']<15]\n",
    "df.rename(columns={\n",
    "    'c590':'c590-70'\n",
    "},inplace=True)\n"
   ]
  },
  {
   "cell_type": "code",
   "execution_count": null,
   "metadata": {},
   "outputs": [],
   "source": [
    "df.iloc[:,0][2:]\n",
    "df_copy=df[0:3]['c2'].copy()\n",
    "df_copy,df\n",
    "# rcopy = sp500[0:3][['Price']].copy()\n"
   ]
  },
  {
   "cell_type": "code",
   "execution_count": null,
   "metadata": {},
   "outputs": [],
   "source": [
    "s = pd.Series(\n",
    "{'1': 'Is in the DataFrame',\n",
    "'MSFT': 'Not in the DataFrame'} )\n",
    "s"
   ]
  },
  {
   "cell_type": "code",
   "execution_count": null,
   "metadata": {},
   "outputs": [],
   "source": [
    "# df.pop(item='c2')\n",
    "#  df.drop(['c3'], axis = 1,inplace=True)\n",
    "df"
   ]
  },
  {
   "cell_type": "code",
   "execution_count": null,
   "metadata": {},
   "outputs": [],
   "source": [
    "df.append(df.iloc[0,:]).fillna('NAA')"
   ]
  },
  {
   "cell_type": "code",
   "execution_count": null,
   "metadata": {},
   "outputs": [],
   "source": [
    "data_1=np.array([[2,4],[5,1]])\n",
    "\n",
    "df_2=pd.DataFrame(data_1,columns=['c590-70','comment'])\n",
    "aa=pd.concat([df,df_2],keys=['df', 'df_2'],axis=1)"
   ]
  },
  {
   "cell_type": "code",
   "execution_count": null,
   "metadata": {},
   "outputs": [],
   "source": [
    "aa.iloc[0:3,[0,1]],aa\n",
    "aa[3:]['df']['comment']\n",
    "df_2.append(df,ignore_index=True)"
   ]
  },
  {
   "cell_type": "code",
   "execution_count": null,
   "metadata": {},
   "outputs": [],
   "source": [
    "df = pd.DataFrame(np.random.randn(5, 4),columns=['A', 'B', 'C', 'D'])\n",
    "df"
   ]
  },
  {
   "cell_type": "code",
   "execution_count": null,
   "metadata": {},
   "outputs": [],
   "source": [
    "df=pd.read_csv('btc_1.csv',index_col=0,usecols=['Open','Date'],header=0)\n",
    "df.to_csv('btc2.csv')"
   ]
  },
  {
   "cell_type": "code",
   "execution_count": null,
   "metadata": {},
   "outputs": [],
   "source": [
    "# df_2=pd.read_table('btc2.csv',index_col=False,sep='-')\n",
    "df_2=pd.read_csv('btc2.csv',skiprows=100,nrows=5,header=0,names=['Date','Open'])\n",
    "df_2['Date']=\"do\"\n",
    "df_2\n"
   ]
  },
  {
   "cell_type": "code",
   "execution_count": null,
   "metadata": {},
   "outputs": [],
   "source": [
    "# import pandas.io.data namespace, alias as web\n",
    "from pandas_datareader import data, web  # <- use this.\n",
    "\n",
    "# import pandas.io.data as web\n",
    "\n",
    "# and datetime for the dates\n",
    "import datetime\n",
    "# start end end dates\n",
    "start = datetime.datetime(2012, 1, 1)\n",
    "end = datetime.datetime(2014, 1, 27)\n",
    "# read the MSFT stock data from yahoo! and view the head\n",
    "# yahoo = wb.DataReader('MSFT', 'yahoo', start, end)\n",
    "# yahoo.head()"
   ]
  },
  {
   "cell_type": "code",
   "execution_count": 228,
   "metadata": {},
   "outputs": [
    {
     "data": {
      "text/html": [
       "<div>\n",
       "<style scoped>\n",
       "    .dataframe tbody tr th:only-of-type {\n",
       "        vertical-align: middle;\n",
       "    }\n",
       "\n",
       "    .dataframe tbody tr th {\n",
       "        vertical-align: top;\n",
       "    }\n",
       "\n",
       "    .dataframe thead th {\n",
       "        text-align: right;\n",
       "    }\n",
       "</style>\n",
       "<table border=\"1\" class=\"dataframe\">\n",
       "  <thead>\n",
       "    <tr style=\"text-align: right;\">\n",
       "      <th></th>\n",
       "      <th>sepal_length</th>\n",
       "      <th>sepal_width</th>\n",
       "      <th>petal_length</th>\n",
       "      <th>petal_width</th>\n",
       "      <th>species</th>\n",
       "    </tr>\n",
       "  </thead>\n",
       "  <tbody>\n",
       "    <tr>\n",
       "      <th>0</th>\n",
       "      <td>5.1</td>\n",
       "      <td>3.5</td>\n",
       "      <td>1.4</td>\n",
       "      <td>0.2</td>\n",
       "      <td>setosa</td>\n",
       "    </tr>\n",
       "    <tr>\n",
       "      <th>1</th>\n",
       "      <td>4.9</td>\n",
       "      <td>3.0</td>\n",
       "      <td>1.4</td>\n",
       "      <td>0.2</td>\n",
       "      <td>setosa</td>\n",
       "    </tr>\n",
       "    <tr>\n",
       "      <th>2</th>\n",
       "      <td>4.7</td>\n",
       "      <td>3.2</td>\n",
       "      <td>1.3</td>\n",
       "      <td>0.2</td>\n",
       "      <td>setosa</td>\n",
       "    </tr>\n",
       "    <tr>\n",
       "      <th>3</th>\n",
       "      <td>4.6</td>\n",
       "      <td>3.1</td>\n",
       "      <td>1.5</td>\n",
       "      <td>0.2</td>\n",
       "      <td>setosa</td>\n",
       "    </tr>\n",
       "    <tr>\n",
       "      <th>4</th>\n",
       "      <td>5.0</td>\n",
       "      <td>3.6</td>\n",
       "      <td>1.4</td>\n",
       "      <td>0.2</td>\n",
       "      <td>setosa</td>\n",
       "    </tr>\n",
       "  </tbody>\n",
       "</table>\n",
       "</div>"
      ],
      "text/plain": [
       "   sepal_length  sepal_width  petal_length  petal_width species\n",
       "0           5.1          3.5           1.4          0.2  setosa\n",
       "1           4.9          3.0           1.4          0.2  setosa\n",
       "2           4.7          3.2           1.3          0.2  setosa\n",
       "3           4.6          3.1           1.5          0.2  setosa\n",
       "4           5.0          3.6           1.4          0.2  setosa"
      ]
     },
     "execution_count": 228,
     "metadata": {},
     "output_type": "execute_result"
    }
   ],
   "source": [
    "data=sns.load_dataset('iris')\n",
    "data[:5]"
   ]
  },
  {
   "cell_type": "code",
   "execution_count": 232,
   "metadata": {},
   "outputs": [
    {
     "data": {
      "text/html": [
       "<div>\n",
       "<style scoped>\n",
       "    .dataframe tbody tr th:only-of-type {\n",
       "        vertical-align: middle;\n",
       "    }\n",
       "\n",
       "    .dataframe tbody tr th {\n",
       "        vertical-align: top;\n",
       "    }\n",
       "\n",
       "    .dataframe thead th {\n",
       "        text-align: right;\n",
       "    }\n",
       "</style>\n",
       "<table border=\"1\" class=\"dataframe\">\n",
       "  <thead>\n",
       "    <tr style=\"text-align: right;\">\n",
       "      <th></th>\n",
       "      <th></th>\n",
       "      <th>sepal_length</th>\n",
       "      <th>sepal_width</th>\n",
       "      <th>petal_width</th>\n",
       "    </tr>\n",
       "    <tr>\n",
       "      <th>species</th>\n",
       "      <th>petal_length</th>\n",
       "      <th></th>\n",
       "      <th></th>\n",
       "      <th></th>\n",
       "    </tr>\n",
       "  </thead>\n",
       "  <tbody>\n",
       "    <tr>\n",
       "      <th rowspan=\"4\" valign=\"top\">setosa</th>\n",
       "      <th>1.3</th>\n",
       "      <td>5.0</td>\n",
       "      <td>3.5</td>\n",
       "      <td>0.3</td>\n",
       "    </tr>\n",
       "    <tr>\n",
       "      <th>1.4</th>\n",
       "      <td>4.4</td>\n",
       "      <td>2.9</td>\n",
       "      <td>0.2</td>\n",
       "    </tr>\n",
       "    <tr>\n",
       "      <th>1.5</th>\n",
       "      <td>5.7</td>\n",
       "      <td>4.4</td>\n",
       "      <td>0.4</td>\n",
       "    </tr>\n",
       "    <tr>\n",
       "      <th>1.6</th>\n",
       "      <td>4.8</td>\n",
       "      <td>3.1</td>\n",
       "      <td>0.2</td>\n",
       "    </tr>\n",
       "    <tr>\n",
       "      <th rowspan=\"3\" valign=\"top\">versicolor</th>\n",
       "      <th>4.0</th>\n",
       "      <td>5.8</td>\n",
       "      <td>2.6</td>\n",
       "      <td>1.2</td>\n",
       "    </tr>\n",
       "    <tr>\n",
       "      <th>4.5</th>\n",
       "      <td>6.0</td>\n",
       "      <td>2.9</td>\n",
       "      <td>1.5</td>\n",
       "    </tr>\n",
       "    <tr>\n",
       "      <th>4.7</th>\n",
       "      <td>6.7</td>\n",
       "      <td>3.1</td>\n",
       "      <td>1.5</td>\n",
       "    </tr>\n",
       "    <tr>\n",
       "      <th rowspan=\"2\" valign=\"top\">virginica</th>\n",
       "      <th>5.1</th>\n",
       "      <td>6.9</td>\n",
       "      <td>3.1</td>\n",
       "      <td>2.3</td>\n",
       "    </tr>\n",
       "    <tr>\n",
       "      <th>5.6</th>\n",
       "      <td>6.3</td>\n",
       "      <td>3.4</td>\n",
       "      <td>2.4</td>\n",
       "    </tr>\n",
       "  </tbody>\n",
       "</table>\n",
       "</div>"
      ],
      "text/plain": [
       "                         sepal_length  sepal_width  petal_width\n",
       "species    petal_length                                        \n",
       "setosa     1.3                    5.0          3.5          0.3\n",
       "           1.4                    4.4          2.9          0.2\n",
       "           1.5                    5.7          4.4          0.4\n",
       "           1.6                    4.8          3.1          0.2\n",
       "versicolor 4.0                    5.8          2.6          1.2\n",
       "           4.5                    6.0          2.9          1.5\n",
       "           4.7                    6.7          3.1          1.5\n",
       "virginica  5.1                    6.9          3.1          2.3\n",
       "           5.6                    6.3          3.4          2.4"
      ]
     },
     "execution_count": 232,
     "metadata": {},
     "output_type": "execute_result"
    }
   ],
   "source": [
    "gr=data.groupby(['species','petal_length'])\n",
    "gr.nth(4)"
   ]
  },
  {
   "cell_type": "code",
   "execution_count": 278,
   "metadata": {},
   "outputs": [
    {
     "data": {
      "text/html": [
       "<div>\n",
       "<style scoped>\n",
       "    .dataframe tbody tr th:only-of-type {\n",
       "        vertical-align: middle;\n",
       "    }\n",
       "\n",
       "    .dataframe tbody tr th {\n",
       "        vertical-align: top;\n",
       "    }\n",
       "\n",
       "    .dataframe thead th {\n",
       "        text-align: right;\n",
       "    }\n",
       "</style>\n",
       "<table border=\"1\" class=\"dataframe\">\n",
       "  <thead>\n",
       "    <tr style=\"text-align: right;\">\n",
       "      <th></th>\n",
       "      <th></th>\n",
       "      <th>sepal_length</th>\n",
       "    </tr>\n",
       "    <tr>\n",
       "      <th>species</th>\n",
       "      <th>petal_length</th>\n",
       "      <th></th>\n",
       "    </tr>\n",
       "  </thead>\n",
       "  <tbody>\n",
       "    <tr>\n",
       "      <th rowspan=\"9\" valign=\"top\">setosa</th>\n",
       "      <th>1.0</th>\n",
       "      <td>4.600000</td>\n",
       "    </tr>\n",
       "    <tr>\n",
       "      <th>1.1</th>\n",
       "      <td>4.300000</td>\n",
       "    </tr>\n",
       "    <tr>\n",
       "      <th>1.2</th>\n",
       "      <td>5.400000</td>\n",
       "    </tr>\n",
       "    <tr>\n",
       "      <th>1.3</th>\n",
       "      <td>4.842857</td>\n",
       "    </tr>\n",
       "    <tr>\n",
       "      <th>1.4</th>\n",
       "      <td>4.915385</td>\n",
       "    </tr>\n",
       "    <tr>\n",
       "      <th>1.5</th>\n",
       "      <td>5.146154</td>\n",
       "    </tr>\n",
       "    <tr>\n",
       "      <th>1.6</th>\n",
       "      <td>4.914286</td>\n",
       "    </tr>\n",
       "    <tr>\n",
       "      <th>1.7</th>\n",
       "      <td>5.400000</td>\n",
       "    </tr>\n",
       "    <tr>\n",
       "      <th>1.9</th>\n",
       "      <td>4.950000</td>\n",
       "    </tr>\n",
       "    <tr>\n",
       "      <th rowspan=\"19\" valign=\"top\">versicolor</th>\n",
       "      <th>3.0</th>\n",
       "      <td>5.100000</td>\n",
       "    </tr>\n",
       "    <tr>\n",
       "      <th>3.3</th>\n",
       "      <td>4.950000</td>\n",
       "    </tr>\n",
       "    <tr>\n",
       "      <th>3.5</th>\n",
       "      <td>5.350000</td>\n",
       "    </tr>\n",
       "    <tr>\n",
       "      <th>3.6</th>\n",
       "      <td>5.600000</td>\n",
       "    </tr>\n",
       "    <tr>\n",
       "      <th>3.7</th>\n",
       "      <td>5.500000</td>\n",
       "    </tr>\n",
       "    <tr>\n",
       "      <th>3.8</th>\n",
       "      <td>5.500000</td>\n",
       "    </tr>\n",
       "    <tr>\n",
       "      <th>3.9</th>\n",
       "      <td>5.533333</td>\n",
       "    </tr>\n",
       "    <tr>\n",
       "      <th>4.0</th>\n",
       "      <td>5.780000</td>\n",
       "    </tr>\n",
       "    <tr>\n",
       "      <th>4.1</th>\n",
       "      <td>5.700000</td>\n",
       "    </tr>\n",
       "    <tr>\n",
       "      <th>4.2</th>\n",
       "      <td>5.725000</td>\n",
       "    </tr>\n",
       "    <tr>\n",
       "      <th>4.3</th>\n",
       "      <td>6.300000</td>\n",
       "    </tr>\n",
       "    <tr>\n",
       "      <th>4.4</th>\n",
       "      <td>6.275000</td>\n",
       "    </tr>\n",
       "    <tr>\n",
       "      <th>4.5</th>\n",
       "      <td>5.900000</td>\n",
       "    </tr>\n",
       "    <tr>\n",
       "      <th>4.6</th>\n",
       "      <td>6.400000</td>\n",
       "    </tr>\n",
       "    <tr>\n",
       "      <th>4.7</th>\n",
       "      <td>6.440000</td>\n",
       "    </tr>\n",
       "    <tr>\n",
       "      <th>4.8</th>\n",
       "      <td>6.350000</td>\n",
       "    </tr>\n",
       "    <tr>\n",
       "      <th>4.9</th>\n",
       "      <td>6.600000</td>\n",
       "    </tr>\n",
       "    <tr>\n",
       "      <th>5.0</th>\n",
       "      <td>6.700000</td>\n",
       "    </tr>\n",
       "    <tr>\n",
       "      <th>5.1</th>\n",
       "      <td>6.000000</td>\n",
       "    </tr>\n",
       "    <tr>\n",
       "      <th rowspan=\"20\" valign=\"top\">virginica</th>\n",
       "      <th>4.5</th>\n",
       "      <td>4.900000</td>\n",
       "    </tr>\n",
       "    <tr>\n",
       "      <th>4.8</th>\n",
       "      <td>6.100000</td>\n",
       "    </tr>\n",
       "    <tr>\n",
       "      <th>4.9</th>\n",
       "      <td>6.000000</td>\n",
       "    </tr>\n",
       "    <tr>\n",
       "      <th>5.0</th>\n",
       "      <td>6.000000</td>\n",
       "    </tr>\n",
       "    <tr>\n",
       "      <th>5.1</th>\n",
       "      <td>6.142857</td>\n",
       "    </tr>\n",
       "    <tr>\n",
       "      <th>5.2</th>\n",
       "      <td>6.600000</td>\n",
       "    </tr>\n",
       "    <tr>\n",
       "      <th>5.3</th>\n",
       "      <td>6.400000</td>\n",
       "    </tr>\n",
       "    <tr>\n",
       "      <th>5.4</th>\n",
       "      <td>6.550000</td>\n",
       "    </tr>\n",
       "    <tr>\n",
       "      <th>5.5</th>\n",
       "      <td>6.566667</td>\n",
       "    </tr>\n",
       "    <tr>\n",
       "      <th>5.6</th>\n",
       "      <td>6.366667</td>\n",
       "    </tr>\n",
       "    <tr>\n",
       "      <th>5.7</th>\n",
       "      <td>6.766667</td>\n",
       "    </tr>\n",
       "    <tr>\n",
       "      <th>5.8</th>\n",
       "      <td>6.800000</td>\n",
       "    </tr>\n",
       "    <tr>\n",
       "      <th>5.9</th>\n",
       "      <td>6.950000</td>\n",
       "    </tr>\n",
       "    <tr>\n",
       "      <th>6.0</th>\n",
       "      <td>6.750000</td>\n",
       "    </tr>\n",
       "    <tr>\n",
       "      <th>6.1</th>\n",
       "      <td>7.433333</td>\n",
       "    </tr>\n",
       "    <tr>\n",
       "      <th>6.3</th>\n",
       "      <td>7.300000</td>\n",
       "    </tr>\n",
       "    <tr>\n",
       "      <th>6.4</th>\n",
       "      <td>7.900000</td>\n",
       "    </tr>\n",
       "    <tr>\n",
       "      <th>6.6</th>\n",
       "      <td>7.600000</td>\n",
       "    </tr>\n",
       "    <tr>\n",
       "      <th>6.7</th>\n",
       "      <td>7.700000</td>\n",
       "    </tr>\n",
       "    <tr>\n",
       "      <th>6.9</th>\n",
       "      <td>7.700000</td>\n",
       "    </tr>\n",
       "  </tbody>\n",
       "</table>\n",
       "</div>"
      ],
      "text/plain": [
       "                         sepal_length\n",
       "species    petal_length              \n",
       "setosa     1.0               4.600000\n",
       "           1.1               4.300000\n",
       "           1.2               5.400000\n",
       "           1.3               4.842857\n",
       "           1.4               4.915385\n",
       "           1.5               5.146154\n",
       "           1.6               4.914286\n",
       "           1.7               5.400000\n",
       "           1.9               4.950000\n",
       "versicolor 3.0               5.100000\n",
       "           3.3               4.950000\n",
       "           3.5               5.350000\n",
       "           3.6               5.600000\n",
       "           3.7               5.500000\n",
       "           3.8               5.500000\n",
       "           3.9               5.533333\n",
       "           4.0               5.780000\n",
       "           4.1               5.700000\n",
       "           4.2               5.725000\n",
       "           4.3               6.300000\n",
       "           4.4               6.275000\n",
       "           4.5               5.900000\n",
       "           4.6               6.400000\n",
       "           4.7               6.440000\n",
       "           4.8               6.350000\n",
       "           4.9               6.600000\n",
       "           5.0               6.700000\n",
       "           5.1               6.000000\n",
       "virginica  4.5               4.900000\n",
       "           4.8               6.100000\n",
       "           4.9               6.000000\n",
       "           5.0               6.000000\n",
       "           5.1               6.142857\n",
       "           5.2               6.600000\n",
       "           5.3               6.400000\n",
       "           5.4               6.550000\n",
       "           5.5               6.566667\n",
       "           5.6               6.366667\n",
       "           5.7               6.766667\n",
       "           5.8               6.800000\n",
       "           5.9               6.950000\n",
       "           6.0               6.750000\n",
       "           6.1               7.433333\n",
       "           6.3               7.300000\n",
       "           6.4               7.900000\n",
       "           6.6               7.600000\n",
       "           6.7               7.700000\n",
       "           6.9               7.700000"
      ]
     },
     "execution_count": 278,
     "metadata": {},
     "output_type": "execute_result"
    }
   ],
   "source": [
    "import numpy as np\n",
    "pd.DataFrame(gr['sepal_length'].mean())"
   ]
  },
  {
   "cell_type": "code",
   "execution_count": 312,
   "metadata": {},
   "outputs": [
    {
     "name": "stdout",
     "output_type": "stream",
     "text": [
      "sepal_length    5.006\n",
      "sepal_width     3.428\n",
      "petal_length    1.462\n",
      "petal_width     0.246\n",
      "dtype: float64\n"
     ]
    },
    {
     "name": "stderr",
     "output_type": "stream",
     "text": [
      "C:\\Users\\erfan\\AppData\\Local\\Temp\\ipykernel_7380\\196358037.py:2: FutureWarning: The default value of numeric_only in DataFrame.mean is deprecated. In a future version, it will default to False. In addition, specifying 'numeric_only=None' is deprecated. Select only valid columns or specify the value of numeric_only to silence this warning.\n",
      "  virgi_means=go.get_group('virginica').mean()\n",
      "C:\\Users\\erfan\\AppData\\Local\\Temp\\ipykernel_7380\\196358037.py:3: FutureWarning: The default value of numeric_only in DataFrame.mean is deprecated. In a future version, it will default to False. In addition, specifying 'numeric_only=None' is deprecated. Select only valid columns or specify the value of numeric_only to silence this warning.\n",
      "  setosa_menas=go.get_group('setosa').mean()\n",
      "C:\\Users\\erfan\\AppData\\Local\\Temp\\ipykernel_7380\\196358037.py:4: FutureWarning: The default value of numeric_only in DataFrame.mean is deprecated. In a future version, it will default to False. In addition, specifying 'numeric_only=None' is deprecated. Select only valid columns or specify the value of numeric_only to silence this warning.\n",
      "  versicolor_means=go.get_group('versicolor').mean()\n"
     ]
    }
   ],
   "source": [
    "go=data.groupby('species')\n",
    "virgi_means=go.get_group('virginica').mean()\n",
    "setosa_menas=go.get_group('setosa').mean()\n",
    "versicolor_means=go.get_group('versicolor').mean()\n",
    "\n",
    "print(setosa_menas)"
   ]
  },
  {
   "cell_type": "code",
   "execution_count": null,
   "metadata": {},
   "outputs": [],
   "source": [
    "pd.DataFrame(gr['sepal_length'].mean())"
   ]
  },
  {
   "cell_type": "code",
   "execution_count": 315,
   "metadata": {},
   "outputs": [
    {
     "data": {
      "text/html": [
       "<div>\n",
       "<style scoped>\n",
       "    .dataframe tbody tr th:only-of-type {\n",
       "        vertical-align: middle;\n",
       "    }\n",
       "\n",
       "    .dataframe tbody tr th {\n",
       "        vertical-align: top;\n",
       "    }\n",
       "\n",
       "    .dataframe thead th {\n",
       "        text-align: right;\n",
       "    }\n",
       "</style>\n",
       "<table border=\"1\" class=\"dataframe\">\n",
       "  <thead>\n",
       "    <tr style=\"text-align: right;\">\n",
       "      <th></th>\n",
       "      <th>Label</th>\n",
       "      <th>Values</th>\n",
       "      <th>Values2</th>\n",
       "      <th>Noise</th>\n",
       "    </tr>\n",
       "  </thead>\n",
       "  <tbody>\n",
       "    <tr>\n",
       "      <th>0</th>\n",
       "      <td>A</td>\n",
       "      <td>0</td>\n",
       "      <td>5</td>\n",
       "      <td>foo</td>\n",
       "    </tr>\n",
       "    <tr>\n",
       "      <th>1</th>\n",
       "      <td>C</td>\n",
       "      <td>1</td>\n",
       "      <td>6</td>\n",
       "      <td>bar</td>\n",
       "    </tr>\n",
       "    <tr>\n",
       "      <th>2</th>\n",
       "      <td>B</td>\n",
       "      <td>2</td>\n",
       "      <td>7</td>\n",
       "      <td>baz</td>\n",
       "    </tr>\n",
       "    <tr>\n",
       "      <th>3</th>\n",
       "      <td>A</td>\n",
       "      <td>3</td>\n",
       "      <td>8</td>\n",
       "      <td>foobar</td>\n",
       "    </tr>\n",
       "    <tr>\n",
       "      <th>4</th>\n",
       "      <td>C</td>\n",
       "      <td>4</td>\n",
       "      <td>9</td>\n",
       "      <td>barbaz</td>\n",
       "    </tr>\n",
       "  </tbody>\n",
       "</table>\n",
       "</div>"
      ],
      "text/plain": [
       "  Label  Values  Values2   Noise\n",
       "0     A       0        5     foo\n",
       "1     C       1        6     bar\n",
       "2     B       2        7     baz\n",
       "3     A       3        8  foobar\n",
       "4     C       4        9  barbaz"
      ]
     },
     "execution_count": 315,
     "metadata": {},
     "output_type": "execute_result"
    }
   ],
   "source": [
    "df = pd.DataFrame({ 'Label': ['A', 'C', 'B', 'A', 'C'],\n",
    "'Values': [0, 1, 2, 3, 4],\n",
    "'Values2': [5, 6, 7, 8, 9],\n",
    "'Noise': ['foo', 'bar', 'baz',\n",
    "'foobar', 'barbaz']})\n",
    "df"
   ]
  },
  {
   "cell_type": "code",
   "execution_count": 337,
   "metadata": {},
   "outputs": [
    {
     "data": {
      "text/plain": [
       "Label\n",
       "A    1.5\n",
       "B    2.0\n",
       "C    2.5\n",
       "Name: Values, dtype: float64"
      ]
     },
     "execution_count": 337,
     "metadata": {},
     "output_type": "execute_result"
    }
   ],
   "source": [
    "grouped = df.groupby('Label')\n",
    "grouped['Values'].mean( )\n",
    "# grouped.first()"
   ]
  },
  {
   "cell_type": "code",
   "execution_count": 352,
   "metadata": {},
   "outputs": [
    {
     "name": "stderr",
     "output_type": "stream",
     "text": [
      "C:\\Users\\erfan\\AppData\\Local\\Temp\\ipykernel_7380\\2558380278.py:4: FutureWarning: Dropping invalid columns in DataFrameGroupBy.transform is deprecated. In a future version, a TypeError will be raised. Before calling .transform, select only columns which should be valid for the function.\n",
      "  grouped.transform(lambda x: x + 10)\n",
      "C:\\Users\\erfan\\AppData\\Local\\Temp\\ipykernel_7380\\2558380278.py:5: FutureWarning: Dropping invalid columns in DataFrameGroupBy.transform is deprecated. In a future version, a TypeError will be raised. Before calling .transform, select only columns which should be valid for the function.\n",
      "  grouped.transform(xplus10)\n"
     ]
    },
    {
     "data": {
      "text/html": [
       "<div>\n",
       "<style scoped>\n",
       "    .dataframe tbody tr th:only-of-type {\n",
       "        vertical-align: middle;\n",
       "    }\n",
       "\n",
       "    .dataframe tbody tr th {\n",
       "        vertical-align: top;\n",
       "    }\n",
       "\n",
       "    .dataframe thead th {\n",
       "        text-align: right;\n",
       "    }\n",
       "</style>\n",
       "<table border=\"1\" class=\"dataframe\">\n",
       "  <thead>\n",
       "    <tr style=\"text-align: right;\">\n",
       "      <th></th>\n",
       "      <th>Values</th>\n",
       "      <th>Values2</th>\n",
       "    </tr>\n",
       "  </thead>\n",
       "  <tbody>\n",
       "    <tr>\n",
       "      <th>0</th>\n",
       "      <td>10</td>\n",
       "      <td>15</td>\n",
       "    </tr>\n",
       "    <tr>\n",
       "      <th>1</th>\n",
       "      <td>11</td>\n",
       "      <td>16</td>\n",
       "    </tr>\n",
       "    <tr>\n",
       "      <th>2</th>\n",
       "      <td>12</td>\n",
       "      <td>17</td>\n",
       "    </tr>\n",
       "    <tr>\n",
       "      <th>3</th>\n",
       "      <td>13</td>\n",
       "      <td>18</td>\n",
       "    </tr>\n",
       "    <tr>\n",
       "      <th>4</th>\n",
       "      <td>14</td>\n",
       "      <td>19</td>\n",
       "    </tr>\n",
       "  </tbody>\n",
       "</table>\n",
       "</div>"
      ],
      "text/plain": [
       "   Values  Values2\n",
       "0      10       15\n",
       "1      11       16\n",
       "2      12       17\n",
       "3      13       18\n",
       "4      14       19"
      ]
     },
     "execution_count": 352,
     "metadata": {},
     "output_type": "execute_result"
    }
   ],
   "source": [
    "def xplus10(x):\n",
    "    return x + 10\n",
    "\n",
    "grouped.transform(lambda x: x + 10)\n",
    "grouped.transform(xplus10)\n"
   ]
  },
  {
   "cell_type": "code",
   "execution_count": 355,
   "metadata": {},
   "outputs": [
    {
     "data": {
      "text/html": [
       "<div>\n",
       "<style scoped>\n",
       "    .dataframe tbody tr th:only-of-type {\n",
       "        vertical-align: middle;\n",
       "    }\n",
       "\n",
       "    .dataframe tbody tr th {\n",
       "        vertical-align: top;\n",
       "    }\n",
       "\n",
       "    .dataframe thead th {\n",
       "        text-align: right;\n",
       "    }\n",
       "</style>\n",
       "<table border=\"1\" class=\"dataframe\">\n",
       "  <thead>\n",
       "    <tr style=\"text-align: right;\">\n",
       "      <th></th>\n",
       "      <th>Label</th>\n",
       "      <th>Values</th>\n",
       "    </tr>\n",
       "  </thead>\n",
       "  <tbody>\n",
       "    <tr>\n",
       "      <th>i1</th>\n",
       "      <td>A</td>\n",
       "      <td>10.0</td>\n",
       "    </tr>\n",
       "    <tr>\n",
       "      <th>i2</th>\n",
       "      <td>B</td>\n",
       "      <td>20.0</td>\n",
       "    </tr>\n",
       "    <tr>\n",
       "      <th>i3</th>\n",
       "      <td>A</td>\n",
       "      <td>11.0</td>\n",
       "    </tr>\n",
       "    <tr>\n",
       "      <th>i4</th>\n",
       "      <td>B</td>\n",
       "      <td>NaN</td>\n",
       "    </tr>\n",
       "    <tr>\n",
       "      <th>i5</th>\n",
       "      <td>A</td>\n",
       "      <td>12.0</td>\n",
       "    </tr>\n",
       "    <tr>\n",
       "      <th>i6</th>\n",
       "      <td>B</td>\n",
       "      <td>22.0</td>\n",
       "    </tr>\n",
       "  </tbody>\n",
       "</table>\n",
       "</div>"
      ],
      "text/plain": [
       "   Label  Values\n",
       "i1     A    10.0\n",
       "i2     B    20.0\n",
       "i3     A    11.0\n",
       "i4     B     NaN\n",
       "i5     A    12.0\n",
       "i6     B    22.0"
      ]
     },
     "execution_count": 355,
     "metadata": {},
     "output_type": "execute_result"
    }
   ],
   "source": [
    "df = pd.DataFrame({ 'Label': list(\"ABABAB\"),\n",
    "'Values': [10, 20, 11, np.nan, 12, 22]},\n",
    "index=['i1', 'i2', 'i3', 'i4', 'i5', 'i6'])\n",
    "grouped = df.groupby('Label')\n",
    "df\n"
   ]
  },
  {
   "cell_type": "code",
   "execution_count": 372,
   "metadata": {},
   "outputs": [
    {
     "data": {
      "text/html": [
       "<div>\n",
       "<style scoped>\n",
       "    .dataframe tbody tr th:only-of-type {\n",
       "        vertical-align: middle;\n",
       "    }\n",
       "\n",
       "    .dataframe tbody tr th {\n",
       "        vertical-align: top;\n",
       "    }\n",
       "\n",
       "    .dataframe thead th {\n",
       "        text-align: right;\n",
       "    }\n",
       "</style>\n",
       "<table border=\"1\" class=\"dataframe\">\n",
       "  <thead>\n",
       "    <tr style=\"text-align: right;\">\n",
       "      <th></th>\n",
       "      <th>Values</th>\n",
       "    </tr>\n",
       "  </thead>\n",
       "  <tbody>\n",
       "    <tr>\n",
       "      <th>i1</th>\n",
       "      <td>10.0</td>\n",
       "    </tr>\n",
       "    <tr>\n",
       "      <th>i2</th>\n",
       "      <td>20.0</td>\n",
       "    </tr>\n",
       "    <tr>\n",
       "      <th>i3</th>\n",
       "      <td>11.0</td>\n",
       "    </tr>\n",
       "    <tr>\n",
       "      <th>i4</th>\n",
       "      <td>21.0</td>\n",
       "    </tr>\n",
       "    <tr>\n",
       "      <th>i5</th>\n",
       "      <td>12.0</td>\n",
       "    </tr>\n",
       "    <tr>\n",
       "      <th>i6</th>\n",
       "      <td>22.0</td>\n",
       "    </tr>\n",
       "  </tbody>\n",
       "</table>\n",
       "</div>"
      ],
      "text/plain": [
       "    Values\n",
       "i1    10.0\n",
       "i2    20.0\n",
       "i3    11.0\n",
       "i4    21.0\n",
       "i5    12.0\n",
       "i6    22.0"
      ]
     },
     "execution_count": 372,
     "metadata": {},
     "output_type": "execute_result"
    }
   ],
   "source": [
    "grouped.first()\n",
    "grouped.mean()\n",
    "filled_NaNs = grouped.transform(lambda x: x.fillna(x.mean()))\n",
    "filled_NaNs"
   ]
  },
  {
   "cell_type": "code",
   "execution_count": 407,
   "metadata": {},
   "outputs": [
    {
     "data": {
      "text/html": [
       "<div>\n",
       "<style scoped>\n",
       "    .dataframe tbody tr th:only-of-type {\n",
       "        vertical-align: middle;\n",
       "    }\n",
       "\n",
       "    .dataframe tbody tr th {\n",
       "        vertical-align: top;\n",
       "    }\n",
       "\n",
       "    .dataframe thead th {\n",
       "        text-align: right;\n",
       "    }\n",
       "</style>\n",
       "<table border=\"1\" class=\"dataframe\">\n",
       "  <thead>\n",
       "    <tr style=\"text-align: right;\">\n",
       "      <th></th>\n",
       "      <th>mean</th>\n",
       "      <th>std</th>\n",
       "    </tr>\n",
       "  </thead>\n",
       "  <tbody>\n",
       "    <tr>\n",
       "      <th>2011</th>\n",
       "      <td>0.362128</td>\n",
       "      <td>2.165945</td>\n",
       "    </tr>\n",
       "    <tr>\n",
       "      <th>2012</th>\n",
       "      <td>0.303284</td>\n",
       "      <td>2.019602</td>\n",
       "    </tr>\n",
       "    <tr>\n",
       "      <th>2013</th>\n",
       "      <td>0.689642</td>\n",
       "      <td>2.037010</td>\n",
       "    </tr>\n",
       "  </tbody>\n",
       "</table>\n",
       "</div>"
      ],
      "text/plain": [
       "          mean       std\n",
       "2011  0.362128  2.165945\n",
       "2012  0.303284  2.019602\n",
       "2013  0.689642  2.037010"
      ]
     },
     "execution_count": 407,
     "metadata": {},
     "output_type": "execute_result"
    }
   ],
   "source": [
    "np.random.seed(123456)\n",
    "data = pd.Series(np.random.normal(0.5, 2, 365*3),\n",
    "pd.date_range('2011-01-01', periods=365*3))\n",
    "# rolling = pd.rolling_mean(data, 100, 100).dropna()\n",
    "groupkey = lambda x: x.year\n",
    "groups = data.groupby(groupkey)\n",
    "groups.agg([np.mean, np.std])\n",
    "# groups.first()\n"
   ]
  },
  {
   "cell_type": "code",
   "execution_count": 475,
   "metadata": {},
   "outputs": [
    {
     "data": {
      "text/html": [
       "<div>\n",
       "<style scoped>\n",
       "    .dataframe tbody tr th:only-of-type {\n",
       "        vertical-align: middle;\n",
       "    }\n",
       "\n",
       "    .dataframe tbody tr th {\n",
       "        vertical-align: top;\n",
       "    }\n",
       "\n",
       "    .dataframe thead th {\n",
       "        text-align: right;\n",
       "    }\n",
       "</style>\n",
       "<table border=\"1\" class=\"dataframe\">\n",
       "  <thead>\n",
       "    <tr style=\"text-align: right;\">\n",
       "      <th></th>\n",
       "      <th>Label</th>\n",
       "      <th>Values</th>\n",
       "    </tr>\n",
       "  </thead>\n",
       "  <tbody>\n",
       "    <tr>\n",
       "      <th>0</th>\n",
       "      <td>A</td>\n",
       "      <td>1.0</td>\n",
       "    </tr>\n",
       "    <tr>\n",
       "      <th>1</th>\n",
       "      <td>A</td>\n",
       "      <td>2.0</td>\n",
       "    </tr>\n",
       "    <tr>\n",
       "      <th>2</th>\n",
       "      <td>B</td>\n",
       "      <td>3.0</td>\n",
       "    </tr>\n",
       "    <tr>\n",
       "      <th>3</th>\n",
       "      <td>C</td>\n",
       "      <td>4.0</td>\n",
       "    </tr>\n",
       "    <tr>\n",
       "      <th>4</th>\n",
       "      <td>C</td>\n",
       "      <td>NaN</td>\n",
       "    </tr>\n",
       "    <tr>\n",
       "      <th>5</th>\n",
       "      <td>C</td>\n",
       "      <td>8.0</td>\n",
       "    </tr>\n",
       "  </tbody>\n",
       "</table>\n",
       "</div>"
      ],
      "text/plain": [
       "  Label  Values\n",
       "0     A     1.0\n",
       "1     A     2.0\n",
       "2     B     3.0\n",
       "3     C     4.0\n",
       "4     C     NaN\n",
       "5     C     8.0"
      ]
     },
     "execution_count": 475,
     "metadata": {},
     "output_type": "execute_result"
    }
   ],
   "source": [
    "df = pd.DataFrame({'Label': list('AABCCC'),\n",
    "'Values': [1, 2, 3, 4, np.nan, 8]})\n",
    "df"
   ]
  },
  {
   "cell_type": "code",
   "execution_count": 483,
   "metadata": {},
   "outputs": [
    {
     "data": {
      "text/html": [
       "<div>\n",
       "<style scoped>\n",
       "    .dataframe tbody tr th:only-of-type {\n",
       "        vertical-align: middle;\n",
       "    }\n",
       "\n",
       "    .dataframe tbody tr th {\n",
       "        vertical-align: top;\n",
       "    }\n",
       "\n",
       "    .dataframe thead th {\n",
       "        text-align: right;\n",
       "    }\n",
       "</style>\n",
       "<table border=\"1\" class=\"dataframe\">\n",
       "  <thead>\n",
       "    <tr style=\"text-align: right;\">\n",
       "      <th></th>\n",
       "      <th>Label</th>\n",
       "      <th>Values</th>\n",
       "    </tr>\n",
       "  </thead>\n",
       "  <tbody>\n",
       "    <tr>\n",
       "      <th>0</th>\n",
       "      <td>A</td>\n",
       "      <td>1.0</td>\n",
       "    </tr>\n",
       "    <tr>\n",
       "      <th>1</th>\n",
       "      <td>A</td>\n",
       "      <td>2.0</td>\n",
       "    </tr>\n",
       "    <tr>\n",
       "      <th>3</th>\n",
       "      <td>C</td>\n",
       "      <td>4.0</td>\n",
       "    </tr>\n",
       "    <tr>\n",
       "      <th>4</th>\n",
       "      <td>C</td>\n",
       "      <td>NaN</td>\n",
       "    </tr>\n",
       "    <tr>\n",
       "      <th>5</th>\n",
       "      <td>C</td>\n",
       "      <td>8.0</td>\n",
       "    </tr>\n",
       "  </tbody>\n",
       "</table>\n",
       "</div>"
      ],
      "text/plain": [
       "  Label  Values\n",
       "0     A     1.0\n",
       "1     A     2.0\n",
       "3     C     4.0\n",
       "4     C     NaN\n",
       "5     C     8.0"
      ]
     },
     "execution_count": 483,
     "metadata": {},
     "output_type": "execute_result"
    }
   ],
   "source": [
    "f = lambda x: x.Values.count() > 1\n",
    "f2=lambda x: x.Values\n",
    "a=df.groupby('Label')\n",
    "grouped = df.groupby('Label')\n",
    "mean = grouped.mean().mean()\n",
    "\n",
    "# f = lambda x: abs(x.Values.mean() - mean) > 2.0\n",
    "# f = lambda x: abs(x.Values.mean() - mean) > 2.0\n",
    "# df.groupby('Label').filter(f)\n",
    "\n",
    "f = lambda x: x.Values.count() > 1\n",
    "df=df.groupby('Label').filter(f, dropna=True)\n",
    "df\n",
    "# a.Values.isnull().sum() == 0\n",
    "# df.groupby('Label').filter(lambda x: x<5)\n",
    "# df.groupby('Label')\n"
   ]
  },
  {
   "cell_type": "code",
   "execution_count": 509,
   "metadata": {},
   "outputs": [
    {
     "data": {
      "text/plain": [
       "2014-08-01   -1.004239\n",
       "2014-08-02    1.197946\n",
       "2014-08-03    0.765543\n",
       "2014-08-04   -0.423806\n",
       "2014-08-05    1.041571\n",
       "2014-08-06   -0.786641\n",
       "2014-08-07   -0.393609\n",
       "2014-08-08   -0.171092\n",
       "2014-08-09    1.786173\n",
       "2014-08-10   -0.575189\n",
       "Freq: D, dtype: float64"
      ]
     },
     "execution_count": 509,
     "metadata": {},
     "output_type": "execute_result"
    }
   ],
   "source": [
    "from datetime import datetime\n",
    "datetime(2014, 12, 15, 5, 30)\n",
    "datetime.now().date(), datetime.today(),datetime.now(),datetime.now().time()\n",
    "# pd.Timestamp(\"now\"),datetime.now().time()\n",
    "periods = pd.date_range('8/1/2014', periods=10)\n",
    "date_series = pd.Series(np.random.randn(10), index=periods)\n",
    "date_series"
   ]
  },
  {
   "cell_type": "code",
   "execution_count": 557,
   "metadata": {},
   "outputs": [
    {
     "data": {
      "text/plain": [
       "2014-08-01 00:00:00    5.123880\n",
       "2014-08-01 00:01:00   -0.718680\n",
       "2014-08-01 00:02:00   -0.595841\n",
       "2014-08-01 00:03:00   -0.351388\n",
       "2014-08-01 00:04:00    0.025279\n",
       "                         ...   \n",
       "2014-10-29 23:55:00   -3.157372\n",
       "2014-10-29 23:56:00   -0.880824\n",
       "2014-10-29 23:57:00   -0.724423\n",
       "2014-10-29 23:58:00    0.515127\n",
       "2014-10-29 23:59:00    1.383141\n",
       "Freq: T, Length: 129600, dtype: float64"
      ]
     },
     "execution_count": 557,
     "metadata": {},
     "output_type": "execute_result"
    }
   ],
   "source": [
    "a = date_series[3:7]\n",
    "s2 = pd.Series([10, 100, 1000, 10000],index=a.index)\n",
    "s3 = pd.Series(0, pd.date_range('2013-01-01',periods=20))\n",
    "time_1=pd.date_range('2014-08-01',\n",
    "                '2014-10-29 23:59',freq='T')\n",
    "bymin = pd.Series(np.random.normal(0,2,len(time_1)),time_1, )\n",
    "bymin"
   ]
  },
  {
   "cell_type": "code",
   "execution_count": 573,
   "metadata": {},
   "outputs": [
    {
     "ename": "AttributeError",
     "evalue": "module 'pandas' has no attribute 'rolling_mean'",
     "output_type": "error",
     "traceback": [
      "\u001b[1;31m---------------------------------------------------------------------------\u001b[0m",
      "\u001b[1;31mAttributeError\u001b[0m                            Traceback (most recent call last)",
      "Cell \u001b[1;32mIn[573], line 11\u001b[0m\n\u001b[0;32m      8\u001b[0m first_minute\u001b[39m=\u001b[39mpd\u001b[39m.\u001b[39mdate_range(\u001b[39m'\u001b[39m\u001b[39m2014-9,12\u001b[39m\u001b[39m'\u001b[39m,periods\u001b[39m=\u001b[39m\u001b[39m50\u001b[39m)\n\u001b[0;32m     10\u001b[0m \u001b[39m# calculate a rol1ing mean window of 5 periods\u001b[39;00m\n\u001b[1;32m---> 11\u001b[0m pd\u001b[39m.\u001b[39;49mrolling_mean(first_minute, \u001b[39m5\u001b[39m)\u001b[39m.\u001b[39mplot()\n\u001b[0;32m     12\u001b[0m \u001b[39m# # plot it against the raw data\u001b[39;00m\n\u001b[0;32m     13\u001b[0m \u001b[39m# first_minute.plot()\u001b[39;00m\n\u001b[0;32m     14\u001b[0m \u001b[39m# # add a legend\u001b[39;00m\n\u001b[0;32m     15\u001b[0m \u001b[39m# plt.legend(labels=['Rolling Mean', 'Raw']);\u001b[39;00m\n",
      "File \u001b[1;32mg:\\python-env\\lib\\site-packages\\pandas\\__init__.py:264\u001b[0m, in \u001b[0;36m__getattr__\u001b[1;34m(name)\u001b[0m\n\u001b[0;32m    260\u001b[0m     \u001b[39mfrom\u001b[39;00m \u001b[39mpandas\u001b[39;00m\u001b[39m.\u001b[39;00m\u001b[39mcore\u001b[39;00m\u001b[39m.\u001b[39;00m\u001b[39marrays\u001b[39;00m\u001b[39m.\u001b[39;00m\u001b[39msparse\u001b[39;00m \u001b[39mimport\u001b[39;00m SparseArray \u001b[39mas\u001b[39;00m _SparseArray\n\u001b[0;32m    262\u001b[0m     \u001b[39mreturn\u001b[39;00m _SparseArray\n\u001b[1;32m--> 264\u001b[0m \u001b[39mraise\u001b[39;00m \u001b[39mAttributeError\u001b[39;00m(\u001b[39mf\u001b[39m\u001b[39m\"\u001b[39m\u001b[39mmodule \u001b[39m\u001b[39m'\u001b[39m\u001b[39mpandas\u001b[39m\u001b[39m'\u001b[39m\u001b[39m has no attribute \u001b[39m\u001b[39m'\u001b[39m\u001b[39m{\u001b[39;00mname\u001b[39m}\u001b[39;00m\u001b[39m'\u001b[39m\u001b[39m\"\u001b[39m)\n",
      "\u001b[1;31mAttributeError\u001b[0m: module 'pandas' has no attribute 'rolling_mean'"
     ]
    }
   ],
   "source": [
    "dti = pd.date_range('2014-08-29', '2014-09-05', freq='B')\n",
    "dti.values\n",
    "dd=datetime.now().date()\n",
    "do = pd.DateOffset(days = 1) # one day\n",
    "# datetime.now().date(), datetime.today(),datetime.now(),datetime.now().time()\n",
    "dd + do\n",
    "\n",
    "first_minute=pd.date_range('2014-9,12',periods=50)\n",
    "\n",
    "# calculate a rol1ing mean window of 5 periods\n",
    "first_minute.roll\n",
    "# # plot it against the raw data\n",
    "# first_minute.plot()\n",
    "# # add a legend\n",
    "# plt.legend(labels=['Rolling Mean', 'Raw']);"
   ]
  },
  {
   "cell_type": "code",
   "execution_count": 605,
   "metadata": {},
   "outputs": [
    {
     "data": {
      "text/html": [
       "<div>\n",
       "<style scoped>\n",
       "    .dataframe tbody tr th:only-of-type {\n",
       "        vertical-align: middle;\n",
       "    }\n",
       "\n",
       "    .dataframe tbody tr th {\n",
       "        vertical-align: top;\n",
       "    }\n",
       "\n",
       "    .dataframe thead th {\n",
       "        text-align: right;\n",
       "    }\n",
       "</style>\n",
       "<table border=\"1\" class=\"dataframe\">\n",
       "  <thead>\n",
       "    <tr style=\"text-align: right;\">\n",
       "      <th></th>\n",
       "      <th>Values</th>\n",
       "    </tr>\n",
       "  </thead>\n",
       "  <tbody>\n",
       "    <tr>\n",
       "      <th>0</th>\n",
       "      <td>1.0</td>\n",
       "    </tr>\n",
       "    <tr>\n",
       "      <th>1</th>\n",
       "      <td>2.0</td>\n",
       "    </tr>\n",
       "    <tr>\n",
       "      <th>3</th>\n",
       "      <td>4.0</td>\n",
       "    </tr>\n",
       "    <tr>\n",
       "      <th>4</th>\n",
       "      <td>12.0</td>\n",
       "    </tr>\n",
       "    <tr>\n",
       "      <th>5</th>\n",
       "      <td>8.0</td>\n",
       "    </tr>\n",
       "  </tbody>\n",
       "</table>\n",
       "</div>"
      ],
      "text/plain": [
       "   Values\n",
       "0     1.0\n",
       "1     2.0\n",
       "3     4.0\n",
       "4    12.0\n",
       "5     8.0"
      ]
     },
     "execution_count": 605,
     "metadata": {},
     "output_type": "execute_result"
    }
   ],
   "source": [
    "filled_NaNs = grouped.transform(lambda x: x.fillna(x.sum()))\n",
    "# filled_NaNs,grouped.tail()\n",
    "\n",
    "f=lambda x: x.fillna(x.sum())\n",
    "\n",
    "grouped.transform(f)\n"
   ]
  },
  {
   "cell_type": "code",
   "execution_count": 609,
   "metadata": {},
   "outputs": [
    {
     "data": {
      "text/plain": [
       "<bound method DataFrame.fillna of        Values\n",
       "Label        \n",
       "A         3.0\n",
       "C        12.0>"
      ]
     },
     "execution_count": 609,
     "metadata": {},
     "output_type": "execute_result"
    }
   ],
   "source": []
  },
  {
   "cell_type": "code",
   "execution_count": 652,
   "metadata": {},
   "outputs": [
    {
     "data": {
      "text/plain": [
       "(1, 2, 3)"
      ]
     },
     "execution_count": 652,
     "metadata": {},
     "output_type": "execute_result"
    }
   ],
   "source": [
    "import numpy as np\n",
    "a=np.array([1,3,4])\n",
    "b=np.array([1,3,5])\n",
    "a=pd.DataFrame([[(1,2,3),[1,3,4]]])\n",
    "\n",
    "list(a.values[0])[1]\n",
    "a.iloc[a.index[-1],0]\n"
   ]
  },
  {
   "cell_type": "code",
   "execution_count": null,
   "metadata": {},
   "outputs": [],
   "source": [
    "a.iloc[a.index[-1],0][0]"
   ]
  },
  {
   "cell_type": "code",
   "execution_count": null,
   "metadata": {},
   "outputs": [],
   "source": []
  }
 ],
 "metadata": {
  "kernelspec": {
   "display_name": "Python 3.9.0 ('python-env': venv)",
   "language": "python",
   "name": "python3"
  },
  "language_info": {
   "codemirror_mode": {
    "name": "ipython",
    "version": 3
   },
   "file_extension": ".py",
   "mimetype": "text/x-python",
   "name": "python",
   "nbconvert_exporter": "python",
   "pygments_lexer": "ipython3",
   "version": "3.9.0"
  },
  "orig_nbformat": 4,
  "vscode": {
   "interpreter": {
    "hash": "206281c67c299587fd6b7e0799bb09272fa0bcec0938cb036d092e940583014f"
   }
  }
 },
 "nbformat": 4,
 "nbformat_minor": 2
}
