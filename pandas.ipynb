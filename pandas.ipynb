{
 "cells": [
  {
   "cell_type": "code",
   "execution_count": null,
   "metadata": {},
   "outputs": [],
   "source": [
    "import seaborn as sns\n",
    "import matplotlib.pyplot as plt\n",
    "import pandas as pd\n",
    "import numpy as np\n",
    "from pandas_datareader import data, web  # <- use this.\n"
   ]
  },
  {
   "cell_type": "code",
   "execution_count": null,
   "metadata": {},
   "outputs": [],
   "source": [
    "li=pd.Series([1,2,3],index=['a','b','c'])\n",
    "list(li.index)"
   ]
  },
  {
   "cell_type": "code",
   "execution_count": null,
   "metadata": {},
   "outputs": [],
   "source": [
    "dates=pd.date_range('2014-07-01', '2014-07-06')\n",
    "z=pd.Series(range(len(dates)),index=dates)\n",
    "temps2 = pd.Series([70, 75, 69, 83, 79, 77],index = dates)\n",
    "print(f'Z:\\n{z } \\n\\n temp2:\\n{temps2}\\n \\n this is divided:\\n {temps2 - z}')\n"
   ]
  },
  {
   "cell_type": "code",
   "execution_count": null,
   "metadata": {},
   "outputs": [],
   "source": [
    "zz=pd.Series([1,2,3],index=pd.date_range('2014-07-01', '2014-07-03'))\n",
    "temps_df = pd.DataFrame({'Missoula': z,\n",
    "                'Philadelphia': temps2})\n",
    "# tem_df=pd.DataFrame(zz,columns=['one'],index=zz.index)\n",
    "\n",
    "temps_df['Difference']=temps_df.Missoula - temps_df['Philadelphia']\n",
    "temps_df"
   ]
  },
  {
   "cell_type": "code",
   "execution_count": null,
   "metadata": {},
   "outputs": [],
   "source": [
    "#the same \n",
    "# temps_df.iloc[[1, 3, 5]]['Difference']\n",
    "# temps_df.iloc[[1, 3, 5]].Difference \n",
    "temps_df[temps_df.Difference < -70] "
   ]
  },
  {
   "cell_type": "code",
   "execution_count": null,
   "metadata": {},
   "outputs": [],
   "source": [
    "df = pd.read_csv('data/test1.csv', parse_dates=['date'],index_col='some')"
   ]
  },
  {
   "cell_type": "code",
   "execution_count": null,
   "metadata": {},
   "outputs": [],
   "source": [
    "na=np.array(np.arange(2.5,10,2))\n"
   ]
  },
  {
   "cell_type": "code",
   "execution_count": null,
   "metadata": {},
   "outputs": [],
   "source": [
    "na[2:], na.size # size of array\n",
    "# print(len(na))\n",
    "# In numpy array we have size and the len\n",
    "np.arange(0, 10+1, 2)\n",
    "np.arange(10,0,-1) # Counting Down\n",
    "print(np.linspace(1, 10,4))\n",
    "print(np.arange(0,10,2))\n",
    "\n",
    "nz=np.array([[1,2,3],[1,4,5]])\n",
    "nz"
   ]
  },
  {
   "cell_type": "code",
   "execution_count": null,
   "metadata": {},
   "outputs": [],
   "source": [
    "nz[0,0:3] # Slicing\n",
    "nz.size\n",
    "# len(nz)\n",
    "nz[:,2]\n",
    "a = np.arange(5)\n",
    "# a[a< 2]\n",
    "np.sum(a < 3) # sum of the element less than 3\n",
    "a1 = np.arange(1, 10)\n",
    "a1[3:8] ,a1\n",
    "a1[::3],a1\n",
    "a1[9:0:-1],a1 #reversed\n"
   ]
  },
  {
   "cell_type": "code",
   "execution_count": null,
   "metadata": {},
   "outputs": [],
   "source": [
    "a = np.arange(0, 9)\n",
    "# and reshape to a 3x3 2-d array\n",
    "m = a.reshape(3, 3)\n",
    "m"
   ]
  },
  {
   "cell_type": "code",
   "execution_count": null,
   "metadata": {},
   "outputs": [],
   "source": [
    "m_reval=m.ravel() # Generate the Flatt 2-D array\n",
    "m_reval.size, len (m_reval)"
   ]
  },
  {
   "cell_type": "code",
   "execution_count": null,
   "metadata": {},
   "outputs": [],
   "source": [
    "\n",
    "zp=np.array([[1,2,3],[4,1,4],[21,4,7],[1,5,8]])\n",
    "# zp.size, \n",
    "zp, zp.transpose(), zp.T ==zp.transpose()"
   ]
  },
  {
   "cell_type": "code",
   "execution_count": null,
   "metadata": {},
   "outputs": [],
   "source": [
    "a = np.arange(9).reshape(3, 3)\n",
    "b= a*10\n",
    "\n",
    "np.hstack((a,b)), np.concatenate((a, b), axis = 1)\n"
   ]
  },
  {
   "cell_type": "code",
   "execution_count": null,
   "metadata": {},
   "outputs": [],
   "source": [
    "print('a:\\n {} \\n \\n b:\\n {} '.format( a ,b))\n",
    "# np.dstack((a, b))\n",
    "np.column_stack((np.ravel(a),np.ravel(b)))"
   ]
  },
  {
   "cell_type": "code",
   "execution_count": null,
   "metadata": {},
   "outputs": [],
   "source": [
    "a = np.arange(12).reshape(4, 3)\n",
    "print(a)\n",
    "\n",
    "# np.split(a, 3, axis = 1)\n",
    "np.hsplit(a, 3) ,np.vsplit(a, 4)\n",
    "np.split(a, 2, axis = 0)"
   ]
  },
  {
   "cell_type": "code",
   "execution_count": null,
   "metadata": {},
   "outputs": [],
   "source": [
    "m = np.arange(10, 19).reshape(3, 3)\n",
    "print(m)\n",
    "m.argmax(),m.max(), m.min(axis = 1), m.max(axis = 0) # 0 mean columns and 1 is row\n",
    "m.cumsum(), m.cumprod()\n",
    "m.ravel().ndim"
   ]
  },
  {
   "attachments": {},
   "cell_type": "markdown",
   "metadata": {},
   "source": [
    "### creting Seires and Dataframe\n"
   ]
  },
  {
   "cell_type": "code",
   "execution_count": null,
   "metadata": {},
   "outputs": [],
   "source": [
    "s3=pd.Series([2])\n",
    "np.random.seed(123456)\n",
    "s8=pd.Series(np.random.randn(5),index=pd.date_range('2022-01-01','2022-01-5'))\n",
    "s6 = pd.Series({'a': 1, 'b': 2, 'c': 3, 'd': 4}) # from dict\n",
    "s6"
   ]
  },
  {
   "cell_type": "code",
   "execution_count": null,
   "metadata": {},
   "outputs": [],
   "source": [
    "s7=pd.Series([[1,2,3,np.nan],[5,1,7,np.nan],np.nan])\n",
    "s8, s7"
   ]
  },
  {
   "cell_type": "code",
   "execution_count": null,
   "metadata": {},
   "outputs": [],
   "source": [
    "# s7.value_counts(), s8.value_counts()\n",
    "s8.take([0, 4]),'\\n', s8[[0,4]]\n",
    "s8.loc['2022-01-01'], s8.iloc[4]\n",
    "# s8.iloc[[1,2]]\n",
    "# s8.ix['2022-01-01','2022-01-02']\n",
    "# s8[0]"
   ]
  },
  {
   "cell_type": "code",
   "execution_count": null,
   "metadata": {},
   "outputs": [],
   "source": [
    "s6 = pd.Series([1, 2, 3, 4], index=['a', 'b', 'c', 'd'])\n",
    "s9=pd.Series([4, 3, 2, 1], index=['d', 'c', 'b', 'a'])\n",
    "s8 = pd.Series({'b': 6, 'c': 7, 'd': 9, 'e': 10})\n",
    "\n",
    "print(s6.values + s9.values) # Via values of each clumns\n",
    "s6 +s9  # Via index (the order is not important)\n",
    "s8+ s9 # via index (the missing pair of index return the NaN)"
   ]
  },
  {
   "cell_type": "code",
   "execution_count": null,
   "metadata": {},
   "outputs": [],
   "source": [
    "nda = np.array([1, 2, 3, 4, np.NaN,30,40,100])\n",
    "nda.mean(),nda.std()\n",
    "s = pd.Series(nda)\n",
    "s.mean()\n",
    "s.mean(skipna=False)\n",
    "s=s+20"
   ]
  },
  {
   "cell_type": "code",
   "execution_count": null,
   "metadata": {},
   "outputs": [],
   "source": [
    "# print(s)\n",
    "# s[(s > 20) & (s <= 50)]\n",
    "s[(s <40) | (s >20)] # AND\n",
    "(s >= 0).all()\n",
    "(s <= 24).sum()\n",
    "\n",
    "s1 = pd.Series(np.random.randn(3),index=['a','2','c'])\n",
    "s2 = pd.Series(np.random.randn(3),index=s1.index)\n",
    "combined = pd.concat([s1, s2],axis=1)\n",
    "combined.columns=['a','b']\n",
    "combined.index=[np.arange(len(combined))]\n",
    "\n",
    "# combined\n",
    "print(f' combined: \\n {combined}')\n",
    "s1,s2, \n"
   ]
  },
  {
   "cell_type": "code",
   "execution_count": null,
   "metadata": {},
   "outputs": [],
   "source": [
    "s3=s2.reindex(['b','g','a'])\n",
    "s3\n"
   ]
  },
  {
   "cell_type": "code",
   "execution_count": null,
   "metadata": {},
   "outputs": [],
   "source": [
    "s1 = pd.Series(np.random.randn(4), [1, 'b', 'c', 'd'])\n",
    "s2 = s1.reindex(['a', 'c', 'g'])\n",
    "s1,s2"
   ]
  },
  {
   "cell_type": "code",
   "execution_count": null,
   "metadata": {},
   "outputs": [],
   "source": [
    "s1 = pd.Series([0, 1, 2], index=[0, 1, 2])\n",
    "s2 = pd.Series([3, 4, 5], index=['0', '1', '2'])\n",
    "s2.index = s2.index.values.astype(int)\n",
    "s2 + s1 \n"
   ]
  },
  {
   "cell_type": "code",
   "execution_count": null,
   "metadata": {},
   "outputs": [],
   "source": [
    "\n",
    "s4=pd.Series(np.arange(5))\n",
    "s4.index=['f','b','c','e','a']\n",
    "print(s4)\n",
    "s4.reindex(['a', 'f','cc'],fill_value=0)"
   ]
  },
  {
   "cell_type": "code",
   "execution_count": null,
   "metadata": {},
   "outputs": [],
   "source": [
    "s = pd.Series(np.arange(100, 110), index=np.arange(10, 20))\n",
    "s"
   ]
  },
  {
   "cell_type": "code",
   "execution_count": null,
   "metadata": {},
   "outputs": [],
   "source": [
    "s.iloc[[1,2]]\n",
    "s[:5:2]\n",
    "s[4: :2] # start at fourth pos stepping 2"
   ]
  },
  {
   "cell_type": "code",
   "execution_count": null,
   "metadata": {},
   "outputs": [],
   "source": []
  },
  {
   "cell_type": "code",
   "execution_count": null,
   "metadata": {},
   "outputs": [],
   "source": [
    "s1 = pd.Series(np.random.randn(3),index=['a','2','c'])\n",
    "s2 = pd.Series(np.random.randn(3))\n",
    "df=pd.DataFrame(s1,s2)\n",
    "# co=pd.concat([s1, s2],axis=0) # Concat the seriess\n",
    "s2,s1\n"
   ]
  },
  {
   "attachments": {},
   "cell_type": "markdown",
   "metadata": {},
   "source": [
    "### DataFrame"
   ]
  },
  {
   "cell_type": "code",
   "execution_count": null,
   "metadata": {},
   "outputs": [],
   "source": [
    "# pd.DataFrame(np.array([[10, 11], [20, 21]]) )\n",
    "df = pd.DataFrame(np.array([[10, 11], [20, 21]]),columns=['a','b'])\n",
    "df_2=pd.DataFrame({\n",
    "    'A1':np.array(np.linspace(12,21,50)),\n",
    "    'A2': np.array(np.linspace(100,210,50))\n",
    "})\n",
    "s3 = pd.Series(np.arange(12, 14), index=[1, 2])\n",
    "df = pd.DataFrame({'c1': s1, 'c2': s2, 'c3': s3})\n",
    "df['c1']:df['c2']"
   ]
  },
  {
   "cell_type": "code",
   "execution_count": null,
   "metadata": {},
   "outputs": [],
   "source": [
    "s1 = pd.Series(np.arange(1, 6, 1))\n",
    "s2 = pd.Series(np.arange(6, 11, 1))\n",
    "pd.DataFrame({'c1': s1, 'c2': s2})\n",
    "\n",
    "df.loc[:,['c1','c2']]\n",
    "df.iloc[[0,1],0] # Get 0,1 row in second column\n",
    "\n",
    "# df.ix[:, 'c2']\n",
    "df.iat[2,1],df.iloc[2,1 ],df\n"
   ]
  },
  {
   "cell_type": "code",
   "execution_count": null,
   "metadata": {},
   "outputs": [],
   "source": [
    "df['c3'][df['c3']<15]\n",
    "df.rename(columns={\n",
    "    'c590':'c590-70'\n",
    "},inplace=True)\n"
   ]
  },
  {
   "cell_type": "code",
   "execution_count": null,
   "metadata": {},
   "outputs": [],
   "source": [
    "df.iloc[:,0][2:]\n",
    "df_copy=df[0:3]['c2'].copy()\n",
    "df_copy,df\n",
    "# rcopy = sp500[0:3][['Price']].copy()\n"
   ]
  },
  {
   "cell_type": "code",
   "execution_count": null,
   "metadata": {},
   "outputs": [],
   "source": [
    "s = pd.Series(\n",
    "{'1': 'Is in the DataFrame',\n",
    "'MSFT': 'Not in the DataFrame'} )\n",
    "s"
   ]
  },
  {
   "cell_type": "code",
   "execution_count": null,
   "metadata": {},
   "outputs": [],
   "source": [
    "# df.pop(item='c2')\n",
    "#  df.drop(['c3'], axis = 1,inplace=True)\n",
    "df"
   ]
  },
  {
   "cell_type": "code",
   "execution_count": null,
   "metadata": {},
   "outputs": [],
   "source": [
    "df.append(df.iloc[0,:]).fillna('NAA')"
   ]
  },
  {
   "cell_type": "code",
   "execution_count": null,
   "metadata": {},
   "outputs": [],
   "source": [
    "data_1=np.array([[2,4],[5,1]])\n",
    "\n",
    "df_2=pd.DataFrame(data_1,columns=['c590-70','comment'])\n",
    "aa=pd.concat([df,df_2],keys=['df', 'df_2'],axis=1)"
   ]
  },
  {
   "cell_type": "code",
   "execution_count": null,
   "metadata": {},
   "outputs": [],
   "source": [
    "aa.iloc[0:3,[0,1]],aa\n",
    "aa[3:]['df']['comment']\n",
    "df_2.append(df,ignore_index=True)"
   ]
  },
  {
   "cell_type": "code",
   "execution_count": null,
   "metadata": {},
   "outputs": [],
   "source": [
    "df = pd.DataFrame(np.random.randn(5, 4),columns=['A', 'B', 'C', 'D'])\n",
    "df"
   ]
  },
  {
   "cell_type": "code",
   "execution_count": null,
   "metadata": {},
   "outputs": [],
   "source": [
    "df=pd.read_csv('btc_1.csv',index_col=0,usecols=['Open','Date'],header=0)\n",
    "df.to_csv('btc2.csv')"
   ]
  },
  {
   "cell_type": "code",
   "execution_count": null,
   "metadata": {},
   "outputs": [],
   "source": [
    "# df_2=pd.read_table('btc2.csv',index_col=False,sep='-')\n",
    "df_2=pd.read_csv('btc2.csv',skiprows=100,nrows=5,header=0,names=['Date','Open'])\n",
    "df_2['Date']=\"do\"\n",
    "df_2\n"
   ]
  },
  {
   "cell_type": "code",
   "execution_count": null,
   "metadata": {},
   "outputs": [],
   "source": [
    "# import pandas.io.data namespace, alias as web\n",
    "from pandas_datareader import data, web  # <- use this.\n",
    "\n",
    "# import pandas.io.data as web\n",
    "\n",
    "# and datetime for the dates\n",
    "import datetime\n",
    "# start end end dates\n",
    "start = datetime.datetime(2012, 1, 1)\n",
    "end = datetime.datetime(2014, 1, 27)\n",
    "# read the MSFT stock data from yahoo! and view the head\n",
    "# yahoo = wb.DataReader('MSFT', 'yahoo', start, end)\n",
    "# yahoo.head()"
   ]
  }
 ],
 "metadata": {
  "kernelspec": {
   "display_name": "Python 3.9.0 ('python-env': venv)",
   "language": "python",
   "name": "python3"
  },
  "language_info": {
   "codemirror_mode": {
    "name": "ipython",
    "version": 3
   },
   "file_extension": ".py",
   "mimetype": "text/x-python",
   "name": "python",
   "nbconvert_exporter": "python",
   "pygments_lexer": "ipython3",
   "version": "3.9.0"
  },
  "orig_nbformat": 4,
  "vscode": {
   "interpreter": {
    "hash": "206281c67c299587fd6b7e0799bb09272fa0bcec0938cb036d092e940583014f"
   }
  }
 },
 "nbformat": 4,
 "nbformat_minor": 2
}
