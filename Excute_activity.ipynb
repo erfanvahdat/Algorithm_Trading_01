{
 "cells": [
  {
   "cell_type": "code",
   "execution_count": 5,
   "metadata": {},
   "outputs": [],
   "source": [
    "# import csv  \n",
    "# with open(\"Activity_1.csv\", 'a+') as file:\n",
    "#     dw = csv.DictWriter(file, fieldnames=['Activity','End','Start','Total(m)'])\n",
    "#     dw.writeheader()\n"
   ]
  },
  {
   "cell_type": "code",
   "execution_count": 10,
   "metadata": {},
   "outputs": [],
   "source": [
    "import time\n",
    "# from datetime import datetime\n",
    "import pandas as pd\n",
    "from datetime import datetime\n",
    "import numpy as np\n",
    "from csv import DictWriter\n",
    "from csv import writer\n",
    "import calendar\n",
    "elements_1=['Activity','End','Start','Total(m)']\n",
    "\"\"\"\n",
    "   the is the counter of ANY kind of Activity in the day\n",
    "    \"\"\"\n",
    "\n",
    "activity_list={'act_1':['erfan']}\n",
    "\n",
    "class myclass(object):    \n",
    "    global DF\n",
    "    global first_time_day \n",
    "    first_time_day=datetime.strptime('2022/12/08 16:15','%Y/%m/%d %H:%M')\n",
    "\n",
    "    def __init__(self):\n",
    "        pass\n",
    "\n",
    "    def start(self,assumpt,**data):\n",
    "        global start_current\n",
    "        main_F=input('Is there any main focus for today? ')\n",
    "        time_current=datetime.now()\n",
    "        start_current=time_current.strftime('%Y/%m/%d %H:%M')\n",
    "\n",
    "        # =['Day_name','Activity','Start','Days','Assumption_take','Total(m)']\n",
    "        DF=pd.DataFrame(columns=['Activity'])\n",
    "        DF=DF.append(pd.Series(None),ignore_index=True) \n",
    "\n",
    "        DF['Day_name']=calendar.day_name[time_current.weekday()] \n",
    "        DF['Assumption_take(H)']=(f'{assumpt}')\n",
    "                \n",
    "        for key,value in data.items():\n",
    "            DF.loc[DF.index[-1],'Activity']=value.capitalize()\n",
    "        DF.loc[DF.index[-1],'Start']=time_current.strftime('%Y/%m/%d %H:%M')\n",
    "\n",
    "        DF_1=DF.squeeze()\n",
    "        #writing the input data        \n",
    "        data=pd.read_csv('Activity_2.csv')\n",
    "        \n",
    "        data=data.append(DF_1)\n",
    "\n",
    "        if main_F  not in('no' or 'n'):\n",
    "            data.loc[data.index[-1],'Main_Focus']= main_F\n",
    "\n",
    "        data.to_csv('Activity_2.csv', index=False)\n",
    "\n",
    "\n",
    "        return DF\n",
    "        \n",
    "    def stop(self):\n",
    "        global DF\n",
    "        data=pd.read_csv('Activity_2.csv')\n",
    "        end_time=datetime.strptime(datetime.now().strftime('%Y/%m/%d %H:%M'),\n",
    "                                                    '%Y/%m/%d %H:%M') #when we turn string datetime format to datetime, the year shift to right in printing.\n",
    "\n",
    "        total_time=end_time - datetime.strptime(data.loc[data.index[-1],'Start'],'%Y/%m/%d %H:%M')\n",
    "\n",
    "        counter_day= (end_time - first_time_day).days\n",
    "        \n",
    "        diff=(total_time.seconds /60) /60  # Convert Different time to minut /hour\n",
    "        \n",
    "        \n",
    "        data.loc[data.index[-1],'Total(H)']= f'{diff:.2f}'\n",
    "        data.loc[data.index[-1],'Days']= counter_day\n",
    "        data.to_csv('Activity_2.csv',index=False)\n",
    "\n",
    "    def main_focus(self):\n",
    "        act_am=[]\n",
    "        act_pm=[]\n",
    "        \n",
    "        while True:     \n",
    "            checker=input('AM or PM').lower()\n",
    "            act_name=input('Well write the activity:').lower()\n",
    "\n",
    "            # AM Activities\n",
    "            if checker in ('am'):\n",
    "                act_am.append(act_name)\n",
    "\n",
    "            # PM Activities\n",
    "            elif checker in ('pm'):\n",
    "                act_pm.append(act_name)\n",
    "            \n",
    "            ender=input('Any more for today?').lower()\n",
    "\n",
    "            if ender in  ( 'y' ,'yes' ):\n",
    "                pass\n",
    "            \n",
    "            else: break\n",
    "\n",
    "        # var3 = \" -- \".join(a)\n",
    "        data=pd.read_csv('Activity_2.csv')\n",
    "\n",
    "        # check if some list is not empty -> raise Error after excution if any of the list was empty.\n",
    "        if act_am:\n",
    "            data.loc[data.index[-1],'focus_am']= '\\n'.join(act_am)\n",
    "        if act_pm:\n",
    "            data.loc[data.index[-1],'focus_pm']= '\\n'.join(act_pm)\n",
    "        \n",
    "        data.to_csv('Activity_2.csv',index=False )\n",
    "    "
   ]
  },
  {
   "cell_type": "code",
   "execution_count": 12,
   "metadata": {},
   "outputs": [
    {
     "name": "stderr",
     "output_type": "stream",
     "text": [
      "C:\\Users\\erfan\\AppData\\Local\\Temp\\ipykernel_11660\\2286003251.py:32: FutureWarning: The default dtype for empty Series will be 'object' instead of 'float64' in a future version. Specify a dtype explicitly to silence this warning.\n",
      "  DF=DF.append(pd.Series(None),ignore_index=True)\n",
      "C:\\Users\\erfan\\AppData\\Local\\Temp\\ipykernel_11660\\2286003251.py:32: FutureWarning: The frame.append method is deprecated and will be removed from pandas in a future version. Use pandas.concat instead.\n",
      "  DF=DF.append(pd.Series(None),ignore_index=True)\n",
      "C:\\Users\\erfan\\AppData\\Local\\Temp\\ipykernel_11660\\2286003251.py:45: FutureWarning: The frame.append method is deprecated and will be removed from pandas in a future version. Use pandas.concat instead.\n",
      "  data=data.append(DF_1)\n"
     ]
    }
   ],
   "source": [
    "activ=myclass()\n",
    "DF=activ.start(act='visulization',\n",
    "                assumpt=1)\n",
    "# activ.main_focus()"
   ]
  },
  {
   "cell_type": "code",
   "execution_count": 13,
   "metadata": {},
   "outputs": [],
   "source": [
    "activ=myclass()\n",
    "activ.stop()"
   ]
  },
  {
   "cell_type": "code",
   "execution_count": 7,
   "metadata": {},
   "outputs": [
    {
     "data": {
      "text/plain": [
       "<backtrader.feeds.yahoo.YahooFinanceCSVData at 0x22b912343d0>"
      ]
     },
     "execution_count": 7,
     "metadata": {},
     "output_type": "execute_result"
    }
   ],
   "source": [
    "import backtrader as bt\n",
    "\n",
    "#1\n",
    "# data=bt.feeds.PandasData(dataname=yf.download())\n",
    "\n",
    "#2\n",
    "data=bt.feeds.YahooFinanceCSVData(dataname='apecoin.csv')\n",
    "data\n"
   ]
  },
  {
   "cell_type": "code",
   "execution_count": 71,
   "metadata": {},
   "outputs": [
    {
     "name": "stdout",
     "output_type": "stream",
     "text": [
      "will write though\n"
     ]
    }
   ],
   "source": []
  }
 ],
 "metadata": {
  "kernelspec": {
   "display_name": "Python 3.9.0 ('python-env': venv)",
   "language": "python",
   "name": "python3"
  },
  "language_info": {
   "codemirror_mode": {
    "name": "ipython",
    "version": 3
   },
   "file_extension": ".py",
   "mimetype": "text/x-python",
   "name": "python",
   "nbconvert_exporter": "python",
   "pygments_lexer": "ipython3",
   "version": "3.9.0"
  },
  "orig_nbformat": 4,
  "vscode": {
   "interpreter": {
    "hash": "206281c67c299587fd6b7e0799bb09272fa0bcec0938cb036d092e940583014f"
   }
  }
 },
 "nbformat": 4,
 "nbformat_minor": 2
}
